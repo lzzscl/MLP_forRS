{
 "cells": [
  {
   "cell_type": "code",
   "execution_count": 1,
   "metadata": {
    "scrolled": true
   },
   "outputs": [],
   "source": [
    "import pandas as pd\n",
    "import numpy as np\n",
    "import gc\n",
    "import re\n",
    "import MeCab\n",
    "from gensim.models import Word2Vec\n",
    "from gensim.models import TfidfModel\n",
    "from gensim import corpora\n",
    "model = Word2Vec.load('/tmp/content_based_word2vec_model')"
   ]
  },
  {
   "cell_type": "code",
   "execution_count": 2,
   "metadata": {},
   "outputs": [],
   "source": [
    "corpus = np.load('corpus_dealonly.npy')\n",
    "from gensim import corpora\n",
    "dictionary = corpora.Dictionary(corpus)\n",
    "dictionary.filter_extremes(no_below=5, no_above=1, keep_n=300000, keep_tokens=None)\n",
    "corpus_dict = [dictionary.doc2bow(text) for text in corpus]\n",
    "tfidf = TfidfModel(corpus_dict)"
   ]
  },
  {
   "cell_type": "markdown",
   "metadata": {},
   "source": [
    "# contents_based itemvec"
   ]
  },
  {
   "cell_type": "code",
   "execution_count": 3,
   "metadata": {},
   "outputs": [
    {
     "name": "stderr",
     "output_type": "stream",
     "text": [
      "/home/mmde-lab/anaconda3/lib/python3.6/site-packages/IPython/core/interactiveshell.py:2698: DtypeWarning: Columns (9,14,15,51,56) have mixed types. Specify dtype option on import or set low_memory=False.\n",
      "  interactivity=interactivity, compiler=compiler, result=result)\n",
      "/home/mmde-lab/anaconda3/lib/python3.6/site-packages/IPython/core/interactiveshell.py:2698: DtypeWarning: Columns (10,13,26,31) have mixed types. Specify dtype option on import or set low_memory=False.\n",
      "  interactivity=interactivity, compiler=compiler, result=result)\n"
     ]
    }
   ],
   "source": [
    "deal_path = '...'\n",
    "deal_profile_path = '...'\n",
    "work_path = '...'\n",
    "order_path = '...'\n",
    "df_order = pd.read_csv(work_path + order_path, sep = '\\t', compression='gzip')\n",
    "df_deal = pd.read_csv(work_path + deal_path, sep = '\\t', compression='gzip')\n",
    "df_dealprofile = pd.read_csv(work_path + deal_profile_path, sep = '\\t', compression='gzip')"
   ]
  },
  {
   "cell_type": "code",
   "execution_count": 4,
   "metadata": {},
   "outputs": [
    {
     "name": "stderr",
     "output_type": "stream",
     "text": [
      "/home/mmde-lab/anaconda3/lib/python3.6/site-packages/IPython/core/interactiveshell.py:2698: DtypeWarning: Columns (1,4,10,11,14,18,19,25,26,27,30,31,32) have mixed types. Specify dtype option on import or set low_memory=False.\n",
      "  interactivity=interactivity, compiler=compiler, result=result)\n",
      "/home/mmde-lab/anaconda3/lib/python3.6/site-packages/IPython/core/interactiveshell.py:2698: DtypeWarning: Columns (11,14,27,32) have mixed types. Specify dtype option on import or set low_memory=False.\n",
      "  interactivity=interactivity, compiler=compiler, result=result)\n"
     ]
    }
   ],
   "source": [
    "df_dealprofile_afterprep201712 = pd.read_csv('df_dealprofile_afterprep201712.csv.gz', sep = ',', compression='gzip')\n",
    "df_dealprofile_afterprep201804 = pd.read_csv('df_dealprofile_afterprep201804.csv.gz', sep = ',', compression='gzip')\n",
    "df_dealprofile_afterprep201712.deal_description = df_dealprofile_afterprep201712.deal_description.map(lambda x: eval(x))\n",
    "df_dealprofile_afterprep201804.deal_description = df_dealprofile_afterprep201804.deal_description.map(lambda x: eval(x))"
   ]
  },
  {
   "cell_type": "code",
   "execution_count": 5,
   "metadata": {},
   "outputs": [],
   "source": [
    "import datetime\n",
    "df_order['ins_tm'] = pd.to_datetime(df_order['ins_tm'],format='%Y-%m-%d %H:%M:%S')\n",
    "df_order['date'] = df_order.ins_tm.dt.date\n",
    "train_order = df_order.loc[df_order.date <= datetime.date(2017,9,14)]\n",
    "sell_count = train_order.deal_id.value_counts()\n",
    "sell = pd.DataFrame(sell_count)\n",
    "sell = sell.rename(columns= {'deal_id':'sell_count'})\n",
    "sell = sell.reset_index()\n",
    "sell.columns = ['deal_id','sell_count']"
   ]
  },
  {
   "cell_type": "code",
   "execution_count": 7,
   "metadata": {},
   "outputs": [
    {
     "data": {
      "text/plain": [
       "((64762, 2), (316024, 36), (73965, 36))"
      ]
     },
     "execution_count": 7,
     "metadata": {},
     "output_type": "execute_result"
    }
   ],
   "source": [
    "sell.shape, df_dealprofile_afterprep201712.shape ,df_dealprofile_afterprep201804.shape"
   ]
  },
  {
   "cell_type": "code",
   "execution_count": 9,
   "metadata": {},
   "outputs": [],
   "source": [
    "sell_after2 = pd.merge(sell, df_dealprofile_afterprep201712, left_on=['deal_id'], right_on=['deal_id'])"
   ]
  },
  {
   "cell_type": "code",
   "execution_count": 18,
   "metadata": {},
   "outputs": [],
   "source": [
    "sell_after2 = sell_after2[['deal_id', 'deal_description']]"
   ]
  },
  {
   "cell_type": "code",
   "execution_count": 19,
   "metadata": {
    "scrolled": true
   },
   "outputs": [],
   "source": [
    "def calcu_des2vec(raw_des):\n",
    "    deal_corpus = [dictionary.doc2bow(text) for text in raw_des]\n",
    "    itemvec = np.zeros([1,200], dtype = float)\n",
    "    for i in range(len(raw_des)):\n",
    "        for j in range(len(deal_corpus[i])):\n",
    "            itemvec += tfidf[deal_corpus][i][j][1]*model[dictionary.get(deal_corpus[i][j][0])]\n",
    "    return itemvec"
   ]
  },
  {
   "cell_type": "code",
   "execution_count": 20,
   "metadata": {
    "scrolled": true
   },
   "outputs": [
    {
     "name": "stderr",
     "output_type": "stream",
     "text": [
      "/home/mmde-lab/anaconda3/lib/python3.6/site-packages/ipykernel_launcher.py:6: DeprecationWarning: Call to deprecated `__getitem__` (Method will be removed in 4.0.0, use self.wv.__getitem__() instead).\n",
      "  \n"
     ]
    }
   ],
   "source": [
    "sell_after2['dealvec'] = sell_after2.deal_description.map(lambda x: calcu_des2vec(x))"
   ]
  },
  {
   "cell_type": "code",
   "execution_count": 21,
   "metadata": {},
   "outputs": [],
   "source": [
    "sell_after2.to_csv('df_item_cbwin5_trainset.csv.gz', compression = 'gzip')"
   ]
  },
  {
   "cell_type": "code",
   "execution_count": 30,
   "metadata": {},
   "outputs": [],
   "source": [
    "sell_corpus = np.load('session_based_corpus_trainset.npy')\n",
    "deal_dictionary = corpora.Dictionary(sell_corpus)\n",
    "deal_dictionary.filter_extremes(no_below=5, no_above=1, keep_n=300000, keep_tokens=None)\n",
    "sell_corpus_dict = [deal_dictionary.doc2bow(text) for text in sell_corpus]\n",
    "deal_tfidf = TfidfModel(sell_corpus_dict)"
   ]
  },
  {
   "cell_type": "code",
   "execution_count": 22,
   "metadata": {},
   "outputs": [
    {
     "name": "stderr",
     "output_type": "stream",
     "text": [
      "/home/mmde-lab/anaconda3/lib/python3.6/site-packages/pandas/core/generic.py:4405: SettingWithCopyWarning: \n",
      "A value is trying to be set on a copy of a slice from a DataFrame.\n",
      "Try using .loc[row_indexer,col_indexer] = value instead\n",
      "\n",
      "See the caveats in the documentation: http://pandas.pydata.org/pandas-docs/stable/indexing.html#indexing-view-versus-copy\n",
      "  self[name] = value\n"
     ]
    }
   ],
   "source": [
    "train_order.deal_id = train_order.deal_id.map(lambda x: str(x))\n",
    "grouped_order = train_order.groupby('account_id').apply(lambda x: ' '.join(list(x['deal_id'])))\n",
    "Input_Data = pd.DataFrame(grouped_order)\n",
    "Input_Data = Input_Data.reset_index(drop = False)\n",
    "Input_Data.columns = ['account_id', 'deal_id']\n",
    "df_user_cbwin5 = Input_Data\n",
    "df_user_cbwin5.deal_id = df_user_cbwin5.deal_id.map(lambda x: x.split(' '))"
   ]
  },
  {
   "cell_type": "code",
   "execution_count": 49,
   "metadata": {},
   "outputs": [],
   "source": [
    "def calcu_user2vec(raw_des):\n",
    "    user_corpus = deal_dictionary.doc2bow(raw_des)\n",
    "    uservec = np.zeros([1,200], dtype = float)\n",
    "    for j in range(len(user_corpus)):\n",
    "        uservec += tfidf[user_corpus][j][1] * sell_after2.loc[sell_after2.deal_id == int(deal_dictionary.get(user_corpus[0][0]))].dealvec.values[0][0]\n",
    "    return uservec"
   ]
  },
  {
   "cell_type": "code",
   "execution_count": 50,
   "metadata": {},
   "outputs": [],
   "source": [
    "df_user_cbwin5['uservec'] = df_user_cbwin5.deal_id.map(lambda x: calcu_user2vec(x))"
   ]
  },
  {
   "cell_type": "code",
   "execution_count": 51,
   "metadata": {},
   "outputs": [],
   "source": [
    "df_user_cbwin5.to_csv('df_user_cbwin5_trainset.csv.gz', compression = 'gzip')"
   ]
  },
  {
   "cell_type": "code",
   "execution_count": 54,
   "metadata": {},
   "outputs": [
    {
     "data": {
      "text/plain": [
       "1.2346416532964213"
      ]
     },
     "execution_count": 54,
     "metadata": {},
     "output_type": "execute_result"
    }
   ],
   "source": [
    "df_user_cbwin5.uservec[0][0][0]"
   ]
  },
  {
   "cell_type": "code",
   "execution_count": null,
   "metadata": {},
   "outputs": [],
   "source": []
  }
 ],
 "metadata": {
  "hide_input": false,
  "kernelspec": {
   "display_name": "Python 3",
   "language": "python",
   "name": "python3"
  },
  "language_info": {
   "codemirror_mode": {
    "name": "ipython",
    "version": 3
   },
   "file_extension": ".py",
   "mimetype": "text/x-python",
   "name": "python",
   "nbconvert_exporter": "python",
   "pygments_lexer": "ipython3",
   "version": "3.6.6"
  }
 },
 "nbformat": 4,
 "nbformat_minor": 2
}
