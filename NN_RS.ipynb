{
 "cells": [
  {
   "cell_type": "code",
   "execution_count": 1,
   "metadata": {},
   "outputs": [
    {
     "name": "stderr",
     "output_type": "stream",
     "text": [
      "Using TensorFlow backend.\n"
     ]
    }
   ],
   "source": [
    "import pandas as pd\n",
    "import numpy as np\n",
    "import keras"
   ]
  },
  {
   "cell_type": "code",
   "execution_count": 2,
   "metadata": {},
   "outputs": [],
   "source": [
    "df_deal_vec = pd.read_csv('df_new_session_based_window5.csv.gz', compression='gzip')\n",
    "df_user_vec = pd.read_csv('df_user_sbwin5.csv.gz', compression='gzip')"
   ]
  },
  {
   "cell_type": "code",
   "execution_count": 3,
   "metadata": {},
   "outputs": [],
   "source": [
    "df_deal_vec = df_deal_vec[['deal_id', 'dealvec']]"
   ]
  },
  {
   "cell_type": "code",
   "execution_count": 4,
   "metadata": {},
   "outputs": [],
   "source": [
    "df_user_vec = df_user_vec[['account_id', 'uservec']]"
   ]
  },
  {
   "cell_type": "code",
   "execution_count": 5,
   "metadata": {},
   "outputs": [],
   "source": [
    "df_deal_vec.dealvec = df_deal_vec.dealvec.map(lambda x: x[1:-1].split())"
   ]
  },
  {
   "cell_type": "code",
   "execution_count": 6,
   "metadata": {},
   "outputs": [],
   "source": [
    "df_user_vec.uservec = df_user_vec.uservec.map(lambda x: x[2:-2].split())"
   ]
  },
  {
   "cell_type": "code",
   "execution_count": 7,
   "metadata": {},
   "outputs": [],
   "source": [
    "for i in range(200):\n",
    "    df_deal_vec['dealvec_' + str(i)] = df_deal_vec.dealvec.map(lambda x: float(x[i]))"
   ]
  },
  {
   "cell_type": "code",
   "execution_count": 8,
   "metadata": {},
   "outputs": [],
   "source": [
    "for i in range(200):\n",
    "    df_user_vec['uservec_' + str(i)] = df_user_vec.uservec.map(lambda x: float(x[i]))"
   ]
  },
  {
   "cell_type": "code",
   "execution_count": 9,
   "metadata": {},
   "outputs": [
    {
     "name": "stderr",
     "output_type": "stream",
     "text": [
      "/home/mmde-lab/anaconda3/envs/whxPyEnv/lib/python3.6/site-packages/IPython/core/interactiveshell.py:2728: DtypeWarning: Columns (2,4) have mixed types. Specify dtype option on import or set low_memory=False.\n",
      "  interactivity=interactivity, compiler=compiler, result=result)\n"
     ]
    }
   ],
   "source": [
    "work_path = ''\n",
    "train_order = pd.read_csv(work_path + 'train_order_add_negasmpl.gz', compression='gzip')\n",
    "valid_order = pd.read_csv(work_path + 'valid_order_add_negasmpl.gz', compression='gzip')\n",
    "test_order = pd.read_csv(work_path + 'test_order_add_negasmpl.gz', compression='gzip')"
   ]
  },
  {
   "cell_type": "code",
   "execution_count": 10,
   "metadata": {},
   "outputs": [],
   "source": [
    "train_order = train_order[['account_id', 'deal_id', 'rating']]\n",
    "valid_order = valid_order[['account_id', 'deal_id', 'rating']]\n",
    "test_order = test_order[['account_id', 'deal_id', 'rating']]"
   ]
  },
  {
   "cell_type": "code",
   "execution_count": 11,
   "metadata": {},
   "outputs": [],
   "source": [
    "df_deal_vec.deal_id = df_deal_vec.deal_id.astype('category').cat.codes.values"
   ]
  },
  {
   "cell_type": "code",
   "execution_count": 12,
   "metadata": {},
   "outputs": [],
   "source": [
    "df_user_vec.account_id = df_user_vec.account_id.astype('category').cat.codes.values"
   ]
  },
  {
   "cell_type": "code",
   "execution_count": 13,
   "metadata": {},
   "outputs": [],
   "source": [
    "train_order_after = pd.merge(train_order, df_deal_vec, how='left', left_on=['deal_id'], right_on=['deal_id'])\n",
    "valid_order_after = pd.merge(valid_order, df_deal_vec, how='left', left_on=['deal_id'], right_on=['deal_id'])\n",
    "test_order_after = pd.merge(test_order, df_deal_vec, how='left', left_on=['deal_id'], right_on=['deal_id'])"
   ]
  },
  {
   "cell_type": "code",
   "execution_count": 14,
   "metadata": {},
   "outputs": [],
   "source": [
    "train_order_after = pd.merge(train_order_after, df_user_vec, how='left', left_on=['account_id'], right_on=['account_id'])\n",
    "valid_order_after = pd.merge(valid_order_after, df_user_vec, how='left', left_on=['account_id'], right_on=['account_id'])\n",
    "test_order_after = pd.merge(test_order_after, df_user_vec, how='left', left_on=['account_id'], right_on=['account_id'])"
   ]
  },
  {
   "cell_type": "code",
   "execution_count": 15,
   "metadata": {},
   "outputs": [
    {
     "data": {
      "text/plain": [
       "((3165872, 405), (131128, 405), (68402, 405))"
      ]
     },
     "execution_count": 15,
     "metadata": {},
     "output_type": "execute_result"
    }
   ],
   "source": [
    "train_order_after.shape, valid_order_after.shape, test_order_after.shape"
   ]
  },
  {
   "cell_type": "code",
   "execution_count": 16,
   "metadata": {},
   "outputs": [],
   "source": [
    "train_order_after = train_order_after.dropna()\n",
    "valid_order_after = valid_order_after.dropna()\n",
    "test_order_after = test_order_after.dropna()"
   ]
  },
  {
   "cell_type": "markdown",
   "metadata": {},
   "source": [
    "from sklearn.model_selection import train_test_split\n",
    "train, test = train_test_split(df_order_after, test_size = 0.1)\n",
    "train, valid = train_test_split(train, test_size = 0.2)"
   ]
  },
  {
   "cell_type": "code",
   "execution_count": 17,
   "metadata": {},
   "outputs": [],
   "source": [
    "user_vec_name = []\n",
    "deal_vec_name = []\n",
    "for i in range(200):\n",
    "    user_vec_name.append('uservec_' + str(i))\n",
    "    deal_vec_name.append('dealvec_' + str(i))"
   ]
  },
  {
   "cell_type": "markdown",
   "metadata": {},
   "source": [
    "# NN model"
   ]
  },
  {
   "cell_type": "code",
   "execution_count": 18,
   "metadata": {},
   "outputs": [],
   "source": [
    "from keras.models import Model\n",
    "from keras.layers import Input, Dense, Concatenate, Flatten, BatchNormalization, Dropout\n",
    "from keras.losses import binary_crossentropy, mse"
   ]
  },
  {
   "cell_type": "code",
   "execution_count": 20,
   "metadata": {},
   "outputs": [],
   "source": [
    "user_input = Input(shape=(200,), name='user_vec')\n",
    "deal_input = Input(shape=(200,), name='deal_vec')\n",
    "concat = Concatenate()([user_input, deal_input])\n",
    "fc_0 = Dense(512, activation='relu')(concat)\n",
    "fc_1 = Dense(256, activation='relu')(fc_0)\n",
    "#dropout_1 = Dropout(0.2)(fc_1)\n",
    "fc_2 = Dense(256, activation='relu')(fc_1)\n",
    "fc_3 = Dense(128, activation='relu')(fc_2)\n",
    "#dropout_2 = Dropout(0.2)(fc_3)\n",
    "fc_4 = Dense(64, activation='relu')(fc_3)\n",
    "fc_5 = Dense(32, activation='relu')(fc_4)\n",
    "output = Dense(1, activation='sigmoid')(fc_5)\n",
    "\n",
    "model = Model(inputs = [user_input , deal_input], outputs=output)\n",
    "model.compile(optimizer='SGD',loss=binary_crossentropy, metrics=['accuracy'])"
   ]
  },
  {
   "cell_type": "code",
   "execution_count": 21,
   "metadata": {},
   "outputs": [
    {
     "name": "stdout",
     "output_type": "stream",
     "text": [
      "__________________________________________________________________________________________________\n",
      "Layer (type)                    Output Shape         Param #     Connected to                     \n",
      "==================================================================================================\n",
      "user_vec (InputLayer)           (None, 200)          0                                            \n",
      "__________________________________________________________________________________________________\n",
      "deal_vec (InputLayer)           (None, 200)          0                                            \n",
      "__________________________________________________________________________________________________\n",
      "concatenate_2 (Concatenate)     (None, 400)          0           user_vec[0][0]                   \n",
      "                                                                 deal_vec[0][0]                   \n",
      "__________________________________________________________________________________________________\n",
      "dense_4 (Dense)                 (None, 512)          205312      concatenate_2[0][0]              \n",
      "__________________________________________________________________________________________________\n",
      "dense_5 (Dense)                 (None, 256)          131328      dense_4[0][0]                    \n",
      "__________________________________________________________________________________________________\n",
      "dense_6 (Dense)                 (None, 256)          65792       dense_5[0][0]                    \n",
      "__________________________________________________________________________________________________\n",
      "dense_7 (Dense)                 (None, 128)          32896       dense_6[0][0]                    \n",
      "__________________________________________________________________________________________________\n",
      "dense_8 (Dense)                 (None, 64)           8256        dense_7[0][0]                    \n",
      "__________________________________________________________________________________________________\n",
      "dense_9 (Dense)                 (None, 32)           2080        dense_8[0][0]                    \n",
      "__________________________________________________________________________________________________\n",
      "dense_10 (Dense)                (None, 1)            33          dense_9[0][0]                    \n",
      "==================================================================================================\n",
      "Total params: 445,697\n",
      "Trainable params: 445,697\n",
      "Non-trainable params: 0\n",
      "__________________________________________________________________________________________________\n"
     ]
    }
   ],
   "source": [
    "model.summary()"
   ]
  },
  {
   "cell_type": "code",
   "execution_count": 22,
   "metadata": {},
   "outputs": [
    {
     "name": "stdout",
     "output_type": "stream",
     "text": [
      "Train on 2365416 samples, validate on 250 samples\n",
      "Epoch 1/100\n",
      "2365416/2365416 [==============================] - 218s 92us/step - loss: 0.5327 - acc: 0.7013 - val_loss: 0.4616 - val_acc: 0.7480\n",
      "\n",
      "Epoch 00001: val_loss improved from inf to 0.46157, saving model to model.hdf5\n",
      "Epoch 2/100\n",
      "2365416/2365416 [==============================] - 218s 92us/step - loss: 0.4431 - acc: 0.7684 - val_loss: 0.4724 - val_acc: 0.7200\n",
      "\n",
      "Epoch 00002: val_loss did not improve from 0.46157\n",
      "Epoch 3/100\n",
      "2365416/2365416 [==============================] - 218s 92us/step - loss: 0.4158 - acc: 0.7850 - val_loss: 0.5602 - val_acc: 0.7320\n",
      "\n",
      "Epoch 00003: val_loss did not improve from 0.46157\n",
      "Epoch 4/100\n",
      "2365416/2365416 [==============================] - 218s 92us/step - loss: 0.3998 - acc: 0.7946 - val_loss: 0.4105 - val_acc: 0.7800\n",
      "\n",
      "Epoch 00004: val_loss improved from 0.46157 to 0.41054, saving model to model.hdf5\n",
      "Epoch 5/100\n",
      "2365416/2365416 [==============================] - 218s 92us/step - loss: 0.3882 - acc: 0.8016 - val_loss: 0.4495 - val_acc: 0.7240\n",
      "\n",
      "Epoch 00005: val_loss did not improve from 0.41054\n",
      "Epoch 6/100\n",
      "2365416/2365416 [==============================] - 249s 105us/step - loss: 0.3791 - acc: 0.8068 - val_loss: 0.5927 - val_acc: 0.7200\n",
      "\n",
      "Epoch 00006: val_loss did not improve from 0.41054\n",
      "Epoch 7/100\n",
      "2365416/2365416 [==============================] - 271s 114us/step - loss: 0.3711 - acc: 0.8118 - val_loss: 0.4604 - val_acc: 0.7480\n",
      "\n",
      "Epoch 00007: val_loss did not improve from 0.41054\n",
      "Epoch 8/100\n",
      "2365416/2365416 [==============================] - 293s 124us/step - loss: 0.3644 - acc: 0.8160 - val_loss: 0.4149 - val_acc: 0.7600\n",
      "\n",
      "Epoch 00008: val_loss did not improve from 0.41054\n",
      "Epoch 9/100\n",
      "2365416/2365416 [==============================] - 292s 123us/step - loss: 0.3583 - acc: 0.8198 - val_loss: 0.5049 - val_acc: 0.7280\n",
      "\n",
      "Epoch 00009: val_loss did not improve from 0.41054\n",
      "Epoch 00009: early stopping\n"
     ]
    },
    {
     "data": {
      "text/plain": [
       "<keras.callbacks.History at 0x7f7c0e56f668>"
      ]
     },
     "execution_count": 22,
     "metadata": {},
     "output_type": "execute_result"
    }
   ],
   "source": [
    "from keras.callbacks import EarlyStopping, ModelCheckpoint\n",
    "\n",
    "check_point = ModelCheckpoint('model.hdf5', verbose=True, save_best_only = True)\n",
    "early_stop = EarlyStopping(patience=5, verbose=True)\n",
    "model.fit([train_order_after.loc[:, user_vec_name].values, train_order_after.loc[:, deal_vec_name].values], train_order_after.rating, \n",
    "          validation_data=([valid_order_after.loc[:, user_vec_name].values, valid_order_after.loc[:, deal_vec_name].values], valid_order_after.rating),\n",
    "          batch_size=32,\n",
    "          epochs=100, \n",
    "          verbose=True,\n",
    "         callbacks=[early_stop, check_point])"
   ]
  },
  {
   "cell_type": "code",
   "execution_count": 24,
   "metadata": {},
   "outputs": [],
   "source": [
    "model.load_weights('model.hdf5')\n",
    "pred_result = model.predict([test_order_after.loc[:, user_vec_name].values, test_order_after.loc[:, deal_vec_name].values])"
   ]
  },
  {
   "cell_type": "code",
   "execution_count": 25,
   "metadata": {},
   "outputs": [
    {
     "name": "stdout",
     "output_type": "stream",
     "text": [
      "accuracy: 0.625\n"
     ]
    }
   ],
   "source": [
    "right_num = 0\n",
    "for i in range(len(pred_result)):\n",
    "    if int(pred_result[i][0] >=0.5) == test_order_after.rating.values[i]:\n",
    "        right_num += 1\n",
    "print('accuracy: {}'.format((right_num / len(pred_result))))"
   ]
  },
  {
   "cell_type": "markdown",
   "metadata": {},
   "source": [
    "#   optimizer  loss  acc (without dropout 6dense layers)\n",
    "##  SGD crossEntropy  0.84 0.82  0.8380750898693154\n",
    "##  SGD mse  0.8304177606210149\n",
    "#   optimizer  loss  acc (with dropout 6dense layers)\n",
    "##  SGD crossEntropy  "
   ]
  },
  {
   "cell_type": "code",
   "execution_count": null,
   "metadata": {},
   "outputs": [],
   "source": []
  }
 ],
 "metadata": {
  "hide_input": false,
  "kernelspec": {
   "display_name": "Python 3",
   "language": "python",
   "name": "python3"
  },
  "language_info": {
   "codemirror_mode": {
    "name": "ipython",
    "version": 3
   },
   "file_extension": ".py",
   "mimetype": "text/x-python",
   "name": "python",
   "nbconvert_exporter": "python",
   "pygments_lexer": "ipython3",
   "version": "3.6.6"
  }
 },
 "nbformat": 4,
 "nbformat_minor": 2
}
