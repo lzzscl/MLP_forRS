{
 "cells": [
  {
   "cell_type": "code",
   "execution_count": 1,
   "metadata": {},
   "outputs": [
    {
     "name": "stdout",
     "output_type": "stream",
     "text": [
      "CPU times: user 43.4 s, sys: 2.21 s, total: 45.6 s\n",
      "Wall time: 46.6 s\n"
     ]
    }
   ],
   "source": [
    "%%time\n",
    "import pandas as pd\n",
    "import numpy as np\n",
    "import re\n",
    "import os\n",
    "\n",
    "def Data_Raw2Input (filename):\n",
    "    df2 = pd.read_csv(filename, sep = '\\t', header = None, compression='gzip')\n",
    "    df2 = df2.iloc[:,[0,1,2,4]]\n",
    "    df2 = df2.dropna()\n",
    "    grouped3 = df2.groupby(2).apply(lambda x: ' '.join(list(x[4])))\n",
    "    Input_Data = pd.DataFrame(grouped3)\n",
    "    Input_Data = Input_Data.reset_index(drop = True)\n",
    "    Input_Data = Input_Data.iloc[:,0].values\n",
    "    corpus = []\n",
    "    for line in Input_Data:\n",
    "        words = [x for x in line.split(' ')]\n",
    "        corpus.append(words)\n",
    "    return corpus\n",
    "\n",
    "corpus = Data_Raw2Input('')"
   ]
  },
  {
   "cell_type": "code",
   "execution_count": 5,
   "metadata": {},
   "outputs": [
    {
     "ename": "SyntaxError",
     "evalue": "unexpected character after line continuation character (<ipython-input-5-f1f8c79286aa>, line 1)",
     "output_type": "error",
     "traceback": [
      "\u001b[0;36m  File \u001b[0;32m\"<ipython-input-5-f1f8c79286aa>\"\u001b[0;36m, line \u001b[0;32m1\u001b[0m\n\u001b[0;31m    df2 = pd.read_csv('/home/mmde-lab/lizhi/Url2vec/Input_Datakddilab_get_luxa_from_db_20170511.csv.gz, sep = '\\t', header = None, compression='gzip')\u001b[0m\n\u001b[0m                                                                                                                                                      ^\u001b[0m\n\u001b[0;31mSyntaxError\u001b[0m\u001b[0;31m:\u001b[0m unexpected character after line continuation character\n"
     ]
    }
   ],
   "source": [
    "             "
   ]
  },
  {
   "cell_type": "code",
   "execution_count": null,
   "metadata": {},
   "outputs": [],
   "source": []
  }
 ],
 "metadata": {
  "hide_input": false,
  "kernelspec": {
   "display_name": "Python 3",
   "language": "python",
   "name": "python3"
  },
  "language_info": {
   "codemirror_mode": {
    "name": "ipython",
    "version": 3
   },
   "file_extension": ".py",
   "mimetype": "text/x-python",
   "name": "python",
   "nbconvert_exporter": "python",
   "pygments_lexer": "ipython3",
   "version": "3.6.6"
  }
 },
 "nbformat": 4,
 "nbformat_minor": 2
}
