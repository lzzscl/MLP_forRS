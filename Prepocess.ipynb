{
 "cells": [
  {
   "cell_type": "code",
   "execution_count": 1,
   "metadata": {},
   "outputs": [],
   "source": [
    "import pandas as pd \n",
    "import os\n",
    "def Data_Raw2Input (filename):\n",
    "    df2 = pd.read_csv(filename, sep = '\\t', header = None, compression='gzip')\n",
    "    df2 = df2.iloc[:,[0,1,2,4]]\n",
    "    df2 = df2.dropna()\n",
    "    grouped3 = df2.groupby(2).apply(lambda x: ' '.join(list(x[4])))\n",
    "    Input_Data = pd.DataFrame(grouped3)\n",
    "    Input_Data = Input_Data.reset_index(drop = True)\n",
    "    Input_Data = Input_Data.iloc[:,0].values\n",
    "    corpus = []\n",
    "    for line in Input_Data:\n",
    "        words = [x for x in line.split(' ')]\n",
    "        corpus.append(words)\n",
    "    return corpus"
   ]
  },
  {
   "cell_type": "code",
   "execution_count": 97,
   "metadata": {},
   "outputs": [],
   "source": [
    "corpus = Data_Raw2Input('')"
   ]
  },
  {
   "cell_type": "code",
   "execution_count": 2,
   "metadata": {},
   "outputs": [],
   "source": [
    "df2 = pd.read_csv('', sep = '\\t', header = None, compression='gzip')"
   ]
  },
  {
   "cell_type": "code",
   "execution_count": 3,
   "metadata": {},
   "outputs": [],
   "source": [
    "df2 = df2.iloc[:,[0,1,2,4]]\n",
    "df2 = df2.dropna()"
   ]
  },
  {
   "cell_type": "code",
   "execution_count": null,
   "metadata": {},
   "outputs": [],
   "source": []
  }
 ],
 "metadata": {
  "hide_input": false,
  "kernelspec": {
   "display_name": "Python 3",
   "language": "python",
   "name": "python3"
  },
  "language_info": {
   "codemirror_mode": {
    "name": "ipython",
    "version": 3
   },
   "file_extension": ".py",
   "mimetype": "text/x-python",
   "name": "python",
   "nbconvert_exporter": "python",
   "pygments_lexer": "ipython3",
   "version": "3.6.6"
  }
 },
 "nbformat": 4,
 "nbformat_minor": 2
}
