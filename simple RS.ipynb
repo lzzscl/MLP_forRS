{
 "cells": [
  {
   "cell_type": "code",
   "execution_count": 5,
   "metadata": {},
   "outputs": [],
   "source": [
    "import pandas as pd\n",
    "import numpy as np\n",
    "import keras\n",
    "from IPython.display import SVG\n",
    "from keras.optimizers import Adam\n",
    "from keras.utils.vis_utils import model_to_dot\n",
    "import random\n",
    "import gc\n",
    "import re\n",
    "import MeCab\n",
    "import matplotlib.pyplot as plt\n",
    "import warnings\n",
    "warnings.filterwarnings('ignore')\n",
    "\n",
    "%matplotlib inline\n",
    "\n",
    "\n",
    "#df_account = pd.read_csv(work_path + account_path, sep = '\\t', compression='gzip')\n",
    "df_order = pd.read_csv(work_path + order_path, sep = '\\t', compression='gzip')\n",
    "#df_deal = pd.read_csv(work_path + deal_path, sep = '\\t', compression='gzip')\n",
    "#df_dealprofile = pd.read_csv(work_path + deal_profile_path, sep = '\\t', compression='gzip')\n",
    "#df_dealprofile2 = pd.read_csv(work_path + deal_profile_path2, sep = '\\t', compression='gzip')"
   ]
  },
  {
   "cell_type": "code",
   "execution_count": 6,
   "metadata": {},
   "outputs": [],
   "source": [
    "df_order = df_order[['account_id', 'deal_id', 'ins_tm']]\n",
    "df_order['rating'] = 1\n",
    "df_order.account_id = df_order.account_id.astype('category').cat.codes.values\n",
    "df_order.deal_id = df_order.deal_id.astype('category').cat.codes.values"
   ]
  },
  {
   "cell_type": "code",
   "execution_count": 7,
   "metadata": {},
   "outputs": [
    {
     "name": "stdout",
     "output_type": "stream",
     "text": [
      "0/341409finished!\n",
      "10000/341409finished!\n",
      "20000/341409finished!\n",
      "30000/341409finished!\n",
      "40000/341409finished!\n",
      "50000/341409finished!\n",
      "60000/341409finished!\n",
      "70000/341409finished!\n",
      "80000/341409finished!\n",
      "90000/341409finished!\n",
      "100000/341409finished!\n",
      "110000/341409finished!\n",
      "120000/341409finished!\n",
      "130000/341409finished!\n",
      "140000/341409finished!\n",
      "150000/341409finished!\n",
      "160000/341409finished!\n",
      "170000/341409finished!\n",
      "180000/341409finished!\n",
      "190000/341409finished!\n",
      "200000/341409finished!\n",
      "210000/341409finished!\n",
      "220000/341409finished!\n",
      "230000/341409finished!\n",
      "240000/341409finished!\n",
      "250000/341409finished!\n",
      "260000/341409finished!\n",
      "270000/341409finished!\n",
      "280000/341409finished!\n",
      "290000/341409finished!\n",
      "300000/341409finished!\n",
      "310000/341409finished!\n",
      "320000/341409finished!\n",
      "330000/341409finished!\n",
      "340000/341409finished!\n"
     ]
    }
   ],
   "source": [
    "item_list = list(df_order.deal_id.unique())\n",
    "user_list = list(df_order.account_id.unique())\n",
    "\n",
    "num_epo = 0\n",
    "Negative_sample = []\n",
    "for user in user_list:\n",
    "    bought_list = list(df_order[df_order.account_id == user].deal_id.values)\n",
    "    negative_list = list(set(item_list)^set(bought_list))\n",
    "    some = random.sample(negative_list, len(bought_list))\n",
    "    for i in range(len(bought_list)):\n",
    "        Negative_sample.append([user, some[i], 0])\n",
    "    if num_epo%10000 == 0:\n",
    "        print(str(num_epo) + '/' + str(len(user_list)) + 'finished!')\n",
    "    num_epo += 1"
   ]
  },
  {
   "cell_type": "code",
   "execution_count": 10,
   "metadata": {},
   "outputs": [],
   "source": [
    "df_Ns = pd.DataFrame(Negative_sample, columns=['account_id', 'deal_id', 'rating'])"
   ]
  },
  {
   "cell_type": "code",
   "execution_count": null,
   "metadata": {},
   "outputs": [],
   "source": [
    "df_order = df_order.append(df_Ns, ignore_index=True)"
   ]
  },
  {
   "cell_type": "code",
   "execution_count": null,
   "metadata": {},
   "outputs": [],
   "source": [
    "df_order.to_csv('df_order_add_negasmpl.gz', compression = 'gzip')"
   ]
  },
  {
   "cell_type": "markdown",
   "metadata": {},
   "source": [
    "# simple RS"
   ]
  },
  {
   "cell_type": "code",
   "execution_count": 2,
   "metadata": {},
   "outputs": [],
   "source": [
    "df_order = pd.read_csv('df_order_add_negasmpl.gz', compression='gzip')"
   ]
  },
  {
   "cell_type": "code",
   "execution_count": 3,
   "metadata": {},
   "outputs": [],
   "source": [
    "df_order = df_order[['account_id', 'deal_id', 'rating']]"
   ]
  },
  {
   "cell_type": "code",
   "execution_count": 4,
   "metadata": {},
   "outputs": [],
   "source": [
    "from sklearn.model_selection import train_test_split\n",
    "train, test = train_test_split(df_order, test_size = 0.1)"
   ]
  },
  {
   "cell_type": "code",
   "execution_count": 5,
   "metadata": {},
   "outputs": [
    {
     "data": {
      "text/plain": [
       "((3028861, 3), (336541, 3))"
      ]
     },
     "execution_count": 5,
     "metadata": {},
     "output_type": "execute_result"
    }
   ],
   "source": [
    "train.shape, test.shape"
   ]
  },
  {
   "cell_type": "code",
   "execution_count": 6,
   "metadata": {},
   "outputs": [],
   "source": [
    "train, valid = train_test_split(train, test_size = 0.2)"
   ]
  },
  {
   "cell_type": "code",
   "execution_count": 7,
   "metadata": {},
   "outputs": [
    {
     "data": {
      "text/plain": [
       "((2423088, 3), (605773, 3), (336541, 3))"
      ]
     },
     "execution_count": 7,
     "metadata": {},
     "output_type": "execute_result"
    }
   ],
   "source": [
    "train.shape, valid.shape, test.shape"
   ]
  },
  {
   "cell_type": "code",
   "execution_count": 25,
   "metadata": {},
   "outputs": [],
   "source": [
    "n_users, n_item = len(df_order.account_id.unique()), len(df_order.deal_id.unique())\n",
    "n_latent_factors = 5 "
   ]
  },
  {
   "cell_type": "code",
   "execution_count": 26,
   "metadata": {},
   "outputs": [],
   "source": [
    "item_input = keras.layers.Input(shape=[1], name='Item')\n",
    "item_embedding = keras.layers.Embedding(n_item + 1, n_latent_factors, name='Item-Embedding')(item_input)\n",
    "item_vec = keras.layers.Flatten(name='FlattenItem')(item_embedding)\n",
    "\n",
    "user_input = keras.layers.Input(shape=[1],name='User')\n",
    "user_vec = keras.layers.Flatten(name='FlattenUsers')(keras.layers.Embedding(n_users + 1, n_latent_factors,name='User-Embedding')(user_input))\n",
    "\n",
    "dot = keras.layers.dot([item_vec, user_vec], -1, name='DotProduct')\n",
    "prod = output = keras.layers.Dense(1, activation='sigmoid')(dot)\n",
    "model = keras.Model([user_input, item_input], prod)\n",
    "model.compile('adam', 'binary_crossentropy', metrics=['accuracy'])"
   ]
  },
  {
   "cell_type": "code",
   "execution_count": 27,
   "metadata": {},
   "outputs": [
    {
     "name": "stdout",
     "output_type": "stream",
     "text": [
      "__________________________________________________________________________________________________\n",
      "Layer (type)                    Output Shape         Param #     Connected to                     \n",
      "==================================================================================================\n",
      "Item (InputLayer)               (None, 1)            0                                            \n",
      "__________________________________________________________________________________________________\n",
      "User (InputLayer)               (None, 1)            0                                            \n",
      "__________________________________________________________________________________________________\n",
      "Item-Embedding (Embedding)      (None, 1, 5)         342295      Item[0][0]                       \n",
      "__________________________________________________________________________________________________\n",
      "User-Embedding (Embedding)      (None, 1, 5)         1707050     User[0][0]                       \n",
      "__________________________________________________________________________________________________\n",
      "FlattenItem (Flatten)           (None, 5)            0           Item-Embedding[0][0]             \n",
      "__________________________________________________________________________________________________\n",
      "FlattenUsers (Flatten)          (None, 5)            0           User-Embedding[0][0]             \n",
      "__________________________________________________________________________________________________\n",
      "DotProduct (Dot)                (None, 1)            0           FlattenItem[0][0]                \n",
      "                                                                 FlattenUsers[0][0]               \n",
      "__________________________________________________________________________________________________\n",
      "dense_2 (Dense)                 (None, 1)            2           DotProduct[0][0]                 \n",
      "==================================================================================================\n",
      "Total params: 2,049,347\n",
      "Trainable params: 2,049,347\n",
      "Non-trainable params: 0\n",
      "__________________________________________________________________________________________________\n"
     ]
    }
   ],
   "source": [
    "model.summary()"
   ]
  },
  {
   "cell_type": "code",
   "execution_count": 28,
   "metadata": {},
   "outputs": [
    {
     "name": "stdout",
     "output_type": "stream",
     "text": [
      "Train on 2423088 samples, validate on 605773 samples\n",
      "Epoch 1/20\n",
      "2423088/2423088 [==============================] - 186s 77us/step - loss: 0.6190 - acc: 0.6458 - val_loss: 0.5150 - val_acc: 0.7510\n",
      "\n",
      "Epoch 00001: val_loss improved from inf to 0.51500, saving model to model.hdf5\n",
      "Epoch 2/20\n",
      "2423088/2423088 [==============================] - 187s 77us/step - loss: 0.4076 - acc: 0.8236 - val_loss: 0.4743 - val_acc: 0.7798\n",
      "\n",
      "Epoch 00002: val_loss improved from 0.51500 to 0.47432, saving model to model.hdf5\n",
      "Epoch 3/20\n",
      "2423088/2423088 [==============================] - 187s 77us/step - loss: 0.3374 - acc: 0.8609 - val_loss: 0.4718 - val_acc: 0.7831\n",
      "\n",
      "Epoch 00003: val_loss improved from 0.47432 to 0.47179, saving model to model.hdf5\n",
      "Epoch 4/20\n",
      "2423088/2423088 [==============================] - 189s 78us/step - loss: 0.3041 - acc: 0.8757 - val_loss: 0.4784 - val_acc: 0.7824\n",
      "\n",
      "Epoch 00004: val_loss did not improve from 0.47179\n",
      "Epoch 5/20\n",
      "2423088/2423088 [==============================] - 193s 80us/step - loss: 0.2821 - acc: 0.8850 - val_loss: 0.4879 - val_acc: 0.7814\n",
      "\n",
      "Epoch 00005: val_loss did not improve from 0.47179\n",
      "Epoch 6/20\n",
      "2423088/2423088 [==============================] - 192s 79us/step - loss: 0.2658 - acc: 0.8920 - val_loss: 0.4955 - val_acc: 0.7795\n",
      "\n",
      "Epoch 00006: val_loss did not improve from 0.47179\n",
      "Epoch 7/20\n",
      "2423088/2423088 [==============================] - 180s 74us/step - loss: 0.2531 - acc: 0.8973 - val_loss: 0.5039 - val_acc: 0.7789\n",
      "\n",
      "Epoch 00007: val_loss did not improve from 0.47179\n",
      "Epoch 8/20\n",
      "2423088/2423088 [==============================] - 176s 73us/step - loss: 0.2431 - acc: 0.9015 - val_loss: 0.5153 - val_acc: 0.7782\n",
      "\n",
      "Epoch 00008: val_loss did not improve from 0.47179\n",
      "Epoch 00008: early stopping\n"
     ]
    },
    {
     "data": {
      "text/plain": [
       "<keras.callbacks.History at 0x7fe98c7202e8>"
      ]
     },
     "execution_count": 28,
     "metadata": {},
     "output_type": "execute_result"
    }
   ],
   "source": [
    "from keras.callbacks import EarlyStopping, ModelCheckpoint\n",
    "\n",
    "check_point = ModelCheckpoint('model.hdf5', verbose=True, save_best_only = True)\n",
    "early_stop = EarlyStopping(patience=5, verbose=True)\n",
    "model.fit([train.account_id, train.deal_id], train.rating, \n",
    "          validation_data=([valid.account_id, valid.deal_id], valid.rating),\n",
    "          batch_size=128,\n",
    "          epochs=20, \n",
    "          verbose=True,\n",
    "         callbacks=[early_stop, check_point])"
   ]
  },
  {
   "cell_type": "code",
   "execution_count": 29,
   "metadata": {},
   "outputs": [],
   "source": [
    "model.load_weights('model.hdf5')"
   ]
  },
  {
   "cell_type": "code",
   "execution_count": 30,
   "metadata": {},
   "outputs": [],
   "source": [
    "pred_result = model.predict([test.account_id, test.deal_id])"
   ]
  },
  {
   "cell_type": "code",
   "execution_count": 31,
   "metadata": {},
   "outputs": [
    {
     "name": "stdout",
     "output_type": "stream",
     "text": [
      "accuracy: 0.7833131772948912\n"
     ]
    }
   ],
   "source": [
    "right_num = 0\n",
    "for i in range(len(pred_result)):\n",
    "    if int(pred_result[i][0] >=0.5) == test.rating.values[i]:\n",
    "        right_num += 1\n",
    "print('accuracy: {}'.format((right_num / len(pred_result))))"
   ]
  },
  {
   "cell_type": "markdown",
   "metadata": {},
   "source": [
    "# result  n_latent_factor  optimizer  loss  acc\n",
    "## 3  adam  mse  0.7603412362832463\n",
    "## 3  SGD    mse  acc: 0.50\n",
    "## 3  adam  crossEntropy 0.7822672423270864 (sigmoid(pred)\n",
    "## 5  adam  crpssEntropy 0.7833131772948912 (sigmoid(pred)"
   ]
  },
  {
   "cell_type": "code",
   "execution_count": null,
   "metadata": {},
   "outputs": [],
   "source": []
  }
 ],
 "metadata": {
  "hide_input": false,
  "kernelspec": {
   "display_name": "Python [conda env:whxPyEnv]",
   "language": "python",
   "name": "conda-env-whxPyEnv-py"
  },
  "language_info": {
   "codemirror_mode": {
    "name": "ipython",
    "version": 3
   },
   "file_extension": ".py",
   "mimetype": "text/x-python",
   "name": "python",
   "nbconvert_exporter": "python",
   "pygments_lexer": "ipython3",
   "version": "3.6.8"
  }
 },
 "nbformat": 4,
 "nbformat_minor": 2
}
