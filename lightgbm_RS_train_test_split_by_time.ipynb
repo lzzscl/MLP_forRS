{
 "cells": [
  {
   "cell_type": "code",
   "execution_count": 1,
   "metadata": {},
   "outputs": [],
   "source": [
    "import pandas as pd\n",
    "import numpy as np"
   ]
  },
  {
   "cell_type": "code",
   "execution_count": 2,
   "metadata": {},
   "outputs": [],
   "source": [
    "# session_based embedding\n",
    "df_deal_vec = pd.read_csv('df_item_sbwin5_trainset.csv.gz', compression='gzip')\n",
    "df_user_vec = pd.read_csv('df_user_sbwin5_trainset.csv.gz', compression='gzip')"
   ]
  },
  {
   "cell_type": "code",
   "execution_count": 2,
   "metadata": {},
   "outputs": [],
   "source": [
    "# content_based embedding\n",
    "df_deal_vec = pd.read_csv('df_item_cbwin5_trainset.csv.gz', compression='gzip')\n",
    "df_user_vec = pd.read_csv('df_user_cbwin5_trainset.csv.gz', compression='gzip')"
   ]
  },
  {
   "cell_type": "code",
   "execution_count": 3,
   "metadata": {},
   "outputs": [],
   "source": [
    "df_deal_vec = df_deal_vec[['deal_id', 'dealvec']]\n",
    "df_user_vec = df_user_vec[['account_id', 'uservec']]"
   ]
  },
  {
   "cell_type": "code",
   "execution_count": 5,
   "metadata": {},
   "outputs": [],
   "source": [
    "# session_based embedding\n",
    "df_deal_vec.dealvec = df_deal_vec.dealvec.map(lambda x: x[1:-1].split())"
   ]
  },
  {
   "cell_type": "code",
   "execution_count": 4,
   "metadata": {},
   "outputs": [],
   "source": [
    "# content_based embedding\n",
    "df_deal_vec.dealvec = df_deal_vec.dealvec.map(lambda x: x[2:-2].split())"
   ]
  },
  {
   "cell_type": "code",
   "execution_count": 5,
   "metadata": {},
   "outputs": [],
   "source": [
    "df_user_vec.uservec = df_user_vec.uservec.map(lambda x: x[2:-2].split())"
   ]
  },
  {
   "cell_type": "code",
   "execution_count": 6,
   "metadata": {},
   "outputs": [],
   "source": [
    "for i in range(200):\n",
    "    df_deal_vec['dealvec_' + str(i)] = df_deal_vec.dealvec.map(lambda x: float(x[i]))\n",
    "for i in range(200):\n",
    "    df_user_vec['uservec_' + str(i)] = df_user_vec.uservec.map(lambda x: float(x[i]))\n",
    "df_deal_vec.deal_id = df_deal_vec.deal_id.astype('category').cat.codes.values\n",
    "df_user_vec.account_id = df_user_vec.account_id.astype('category').cat.codes.values"
   ]
  },
  {
   "cell_type": "code",
   "execution_count": 12,
   "metadata": {},
   "outputs": [],
   "source": [
    "# random split train_test\n",
    "deal_order = pd.read_csv('/home/mmde-lab/lizhi/Naive RS/' + 'df_order_add_negasmpl.gz', compression = 'gzip')\n",
    "deal_order = deal_order[['account_id', 'deal_id', 'rating']]\n",
    "df_order_after = pd.merge(deal_order, df_deal_vec, how='left', left_on=['deal_id'], right_on=['deal_id'])\n",
    "df_order_after = pd.merge(df_order_after, df_user_vec, how='left', left_on=['account_id'], right_on=['account_id'])\n",
    "df_order_after = df_order_after.dropna()\n",
    "from sklearn.model_selection import train_test_split\n",
    "train_order_after1, test_order_after1 = train_test_split(df_order_after, test_size = 0.1)\n",
    "train_order_after1, valid_order_after1 = train_test_split(train_order_after1, test_size = 0.2)"
   ]
  },
  {
   "cell_type": "code",
   "execution_count": 7,
   "metadata": {},
   "outputs": [
    {
     "name": "stderr",
     "output_type": "stream",
     "text": [
      "/home/mmde-lab/anaconda3/envs/whxPyEnv/lib/python3.6/site-packages/IPython/core/interactiveshell.py:2728: DtypeWarning: Columns (2,4) have mixed types. Specify dtype option on import or set low_memory=False.\n",
      "  interactivity=interactivity, compiler=compiler, result=result)\n"
     ]
    }
   ],
   "source": [
    "# split train_test by time\n",
    "work_path = '/home/mmde-lab/lizhi/Naive RS/'\n",
    "train_order = pd.read_csv(work_path + 'train_order_add_negasmpl.gz', compression='gzip')\n",
    "valid_order = pd.read_csv(work_path + 'valid_order_add_negasmpl.gz', compression='gzip')\n",
    "test_order = pd.read_csv(work_path + 'test_order_add_negasmpl.gz', compression='gzip')\n",
    "\n",
    "train_order = train_order[['account_id', 'deal_id', 'rating']]\n",
    "valid_order = valid_order[['account_id', 'deal_id', 'rating']]\n",
    "test_order = test_order[['account_id', 'deal_id', 'rating']]\n",
    "\n",
    "train_order_after1 = pd.merge(train_order, df_deal_vec, how='left', left_on=['deal_id'], right_on=['deal_id'])\n",
    "valid_order_after1 = pd.merge(valid_order, df_deal_vec, how='left', left_on=['deal_id'], right_on=['deal_id'])\n",
    "test_order_after1 = pd.merge(test_order, df_deal_vec, how='left', left_on=['deal_id'], right_on=['deal_id'])\n",
    "\n",
    "train_order_after1 = pd.merge(train_order_after1, df_user_vec, how='left', left_on=['account_id'], right_on=['account_id'])\n",
    "valid_order_after1 = pd.merge(valid_order_after1, df_user_vec, how='left', left_on=['account_id'], right_on=['account_id'])\n",
    "test_order_after1 = pd.merge(test_order_after1, df_user_vec, how='left', left_on=['account_id'], right_on=['account_id'])\n",
    "\n",
    "train_order_after1.shape, valid_order_after1.shape, test_order_after1.shape\n",
    "train_order_after1 = train_order_after1.dropna()\n",
    "valid_order_after1 = valid_order_after1.dropna()\n",
    "test_order_after1 = test_order_after1.dropna()"
   ]
  },
  {
   "cell_type": "code",
   "execution_count": 8,
   "metadata": {},
   "outputs": [],
   "source": [
    "train_order_after1.shape, valid_order_after1.shape, test_order_after1.shape\n",
    "user_vec_name = []\n",
    "deal_vec_name = []\n",
    "for i in range(200):\n",
    "    user_vec_name.append('uservec_' + str(i))\n",
    "    deal_vec_name.append('dealvec_' + str(i))"
   ]
  },
  {
   "cell_type": "markdown",
   "metadata": {},
   "source": [
    "# GBDT model"
   ]
  },
  {
   "cell_type": "code",
   "execution_count": 9,
   "metadata": {},
   "outputs": [],
   "source": [
    "def learning_rate_power(current_round):\n",
    "    base_learning_rate = 0.19000424246380565\n",
    "    min_learning_rate = 0.01\n",
    "    lr = base_learning_rate * np.power(0.995,current_round)\n",
    "    return max(lr, min_learning_rate)"
   ]
  },
  {
   "cell_type": "code",
   "execution_count": 19,
   "metadata": {},
   "outputs": [
    {
     "name": "stdout",
     "output_type": "stream",
     "text": [
      "Training until validation scores don't improve for 10 rounds.\n",
      "[2]\tvalid_0's binary_logloss: 0.645353\n",
      "[4]\tvalid_0's binary_logloss: 0.623153\n",
      "[6]\tvalid_0's binary_logloss: 0.595808\n",
      "[8]\tvalid_0's binary_logloss: 0.575342\n",
      "[10]\tvalid_0's binary_logloss: 0.562894\n",
      "[12]\tvalid_0's binary_logloss: 0.551588\n",
      "[14]\tvalid_0's binary_logloss: 0.543416\n",
      "[16]\tvalid_0's binary_logloss: 0.537254\n",
      "[18]\tvalid_0's binary_logloss: 0.529749\n",
      "[20]\tvalid_0's binary_logloss: 0.525646\n",
      "[22]\tvalid_0's binary_logloss: 0.522068\n",
      "[24]\tvalid_0's binary_logloss: 0.517909\n",
      "[26]\tvalid_0's binary_logloss: 0.516\n",
      "[28]\tvalid_0's binary_logloss: 0.513697\n",
      "[30]\tvalid_0's binary_logloss: 0.510679\n",
      "[32]\tvalid_0's binary_logloss: 0.508705\n",
      "[34]\tvalid_0's binary_logloss: 0.505732\n",
      "[36]\tvalid_0's binary_logloss: 0.50437\n",
      "[38]\tvalid_0's binary_logloss: 0.502283\n",
      "[40]\tvalid_0's binary_logloss: 0.499277\n",
      "[42]\tvalid_0's binary_logloss: 0.498306\n",
      "[44]\tvalid_0's binary_logloss: 0.496583\n",
      "[46]\tvalid_0's binary_logloss: 0.495919\n",
      "[48]\tvalid_0's binary_logloss: 0.495436\n",
      "[50]\tvalid_0's binary_logloss: 0.493736\n",
      "[52]\tvalid_0's binary_logloss: 0.493006\n",
      "[54]\tvalid_0's binary_logloss: 0.492188\n",
      "[56]\tvalid_0's binary_logloss: 0.491444\n",
      "[58]\tvalid_0's binary_logloss: 0.490872\n",
      "[60]\tvalid_0's binary_logloss: 0.490117\n",
      "[62]\tvalid_0's binary_logloss: 0.488884\n",
      "[64]\tvalid_0's binary_logloss: 0.487437\n",
      "[66]\tvalid_0's binary_logloss: 0.487339\n",
      "[68]\tvalid_0's binary_logloss: 0.486908\n",
      "[70]\tvalid_0's binary_logloss: 0.486647\n",
      "[72]\tvalid_0's binary_logloss: 0.485097\n",
      "[74]\tvalid_0's binary_logloss: 0.485223\n",
      "[76]\tvalid_0's binary_logloss: 0.485243\n",
      "[78]\tvalid_0's binary_logloss: 0.484717\n",
      "[80]\tvalid_0's binary_logloss: 0.484198\n",
      "[82]\tvalid_0's binary_logloss: 0.483437\n",
      "[84]\tvalid_0's binary_logloss: 0.482927\n",
      "[86]\tvalid_0's binary_logloss: 0.48165\n",
      "[88]\tvalid_0's binary_logloss: 0.480991\n",
      "[90]\tvalid_0's binary_logloss: 0.480593\n",
      "[92]\tvalid_0's binary_logloss: 0.479333\n",
      "[94]\tvalid_0's binary_logloss: 0.479252\n",
      "[96]\tvalid_0's binary_logloss: 0.479154\n",
      "[98]\tvalid_0's binary_logloss: 0.479121\n",
      "[100]\tvalid_0's binary_logloss: 0.47886\n",
      "[102]\tvalid_0's binary_logloss: 0.47832\n",
      "[104]\tvalid_0's binary_logloss: 0.477598\n",
      "[106]\tvalid_0's binary_logloss: 0.477394\n",
      "[108]\tvalid_0's binary_logloss: 0.477107\n",
      "[110]\tvalid_0's binary_logloss: 0.477081\n",
      "[112]\tvalid_0's binary_logloss: 0.477068\n",
      "[114]\tvalid_0's binary_logloss: 0.476986\n",
      "[116]\tvalid_0's binary_logloss: 0.47694\n",
      "[118]\tvalid_0's binary_logloss: 0.476734\n",
      "[120]\tvalid_0's binary_logloss: 0.476191\n",
      "[122]\tvalid_0's binary_logloss: 0.475162\n",
      "[124]\tvalid_0's binary_logloss: 0.474704\n",
      "[126]\tvalid_0's binary_logloss: 0.473123\n",
      "[128]\tvalid_0's binary_logloss: 0.472779\n",
      "[130]\tvalid_0's binary_logloss: 0.47239\n",
      "[132]\tvalid_0's binary_logloss: 0.472189\n",
      "[134]\tvalid_0's binary_logloss: 0.472067\n",
      "[136]\tvalid_0's binary_logloss: 0.471718\n",
      "[138]\tvalid_0's binary_logloss: 0.470766\n",
      "[140]\tvalid_0's binary_logloss: 0.470843\n",
      "[142]\tvalid_0's binary_logloss: 0.470328\n",
      "[144]\tvalid_0's binary_logloss: 0.470124\n",
      "[146]\tvalid_0's binary_logloss: 0.469528\n",
      "[148]\tvalid_0's binary_logloss: 0.469228\n",
      "[150]\tvalid_0's binary_logloss: 0.469232\n",
      "[152]\tvalid_0's binary_logloss: 0.468973\n",
      "[154]\tvalid_0's binary_logloss: 0.468808\n",
      "[156]\tvalid_0's binary_logloss: 0.468819\n",
      "[158]\tvalid_0's binary_logloss: 0.468932\n",
      "[160]\tvalid_0's binary_logloss: 0.468778\n",
      "[162]\tvalid_0's binary_logloss: 0.468731\n",
      "[164]\tvalid_0's binary_logloss: 0.46851\n",
      "[166]\tvalid_0's binary_logloss: 0.468111\n",
      "[168]\tvalid_0's binary_logloss: 0.467918\n",
      "[170]\tvalid_0's binary_logloss: 0.46778\n",
      "[172]\tvalid_0's binary_logloss: 0.466758\n",
      "[174]\tvalid_0's binary_logloss: 0.46663\n",
      "[176]\tvalid_0's binary_logloss: 0.466483\n",
      "[178]\tvalid_0's binary_logloss: 0.466481\n",
      "[180]\tvalid_0's binary_logloss: 0.466436\n",
      "[182]\tvalid_0's binary_logloss: 0.46621\n",
      "[184]\tvalid_0's binary_logloss: 0.466065\n",
      "[186]\tvalid_0's binary_logloss: 0.465731\n",
      "[188]\tvalid_0's binary_logloss: 0.465644\n",
      "[190]\tvalid_0's binary_logloss: 0.465551\n",
      "[192]\tvalid_0's binary_logloss: 0.465383\n",
      "[194]\tvalid_0's binary_logloss: 0.465282\n",
      "[196]\tvalid_0's binary_logloss: 0.46522\n",
      "[198]\tvalid_0's binary_logloss: 0.465165\n",
      "[200]\tvalid_0's binary_logloss: 0.465149\n",
      "[202]\tvalid_0's binary_logloss: 0.46464\n",
      "[204]\tvalid_0's binary_logloss: 0.464571\n",
      "[206]\tvalid_0's binary_logloss: 0.464616\n",
      "[208]\tvalid_0's binary_logloss: 0.4647\n",
      "[210]\tvalid_0's binary_logloss: 0.464656\n",
      "[212]\tvalid_0's binary_logloss: 0.464502\n",
      "[214]\tvalid_0's binary_logloss: 0.464481\n",
      "[216]\tvalid_0's binary_logloss: 0.464469\n",
      "[218]\tvalid_0's binary_logloss: 0.46449\n",
      "[220]\tvalid_0's binary_logloss: 0.464152\n",
      "[222]\tvalid_0's binary_logloss: 0.464011\n",
      "[224]\tvalid_0's binary_logloss: 0.46394\n",
      "[226]\tvalid_0's binary_logloss: 0.463868\n",
      "[228]\tvalid_0's binary_logloss: 0.463678\n",
      "[230]\tvalid_0's binary_logloss: 0.463667\n",
      "[232]\tvalid_0's binary_logloss: 0.463655\n",
      "[234]\tvalid_0's binary_logloss: 0.46363\n",
      "[236]\tvalid_0's binary_logloss: 0.463653\n",
      "[238]\tvalid_0's binary_logloss: 0.463567\n",
      "[240]\tvalid_0's binary_logloss: 0.463566\n",
      "[242]\tvalid_0's binary_logloss: 0.463478\n",
      "[244]\tvalid_0's binary_logloss: 0.463376\n",
      "[246]\tvalid_0's binary_logloss: 0.463353\n",
      "[248]\tvalid_0's binary_logloss: 0.463179\n",
      "[250]\tvalid_0's binary_logloss: 0.46315\n",
      "[252]\tvalid_0's binary_logloss: 0.463103\n",
      "[254]\tvalid_0's binary_logloss: 0.463044\n",
      "[256]\tvalid_0's binary_logloss: 0.463039\n",
      "[258]\tvalid_0's binary_logloss: 0.46276\n",
      "[260]\tvalid_0's binary_logloss: 0.462713\n",
      "[262]\tvalid_0's binary_logloss: 0.462718\n",
      "[264]\tvalid_0's binary_logloss: 0.462756\n",
      "[266]\tvalid_0's binary_logloss: 0.462754\n",
      "[268]\tvalid_0's binary_logloss: 0.462684\n",
      "[270]\tvalid_0's binary_logloss: 0.462618\n",
      "[272]\tvalid_0's binary_logloss: 0.462515\n",
      "[274]\tvalid_0's binary_logloss: 0.462518\n",
      "[276]\tvalid_0's binary_logloss: 0.462495\n",
      "[278]\tvalid_0's binary_logloss: 0.462458\n",
      "[280]\tvalid_0's binary_logloss: 0.462423\n",
      "[282]\tvalid_0's binary_logloss: 0.462398\n",
      "[284]\tvalid_0's binary_logloss: 0.462356\n",
      "[286]\tvalid_0's binary_logloss: 0.462367\n",
      "[288]\tvalid_0's binary_logloss: 0.462164\n",
      "[290]\tvalid_0's binary_logloss: 0.462098\n",
      "[292]\tvalid_0's binary_logloss: 0.46201\n",
      "[294]\tvalid_0's binary_logloss: 0.46195\n",
      "[296]\tvalid_0's binary_logloss: 0.461966\n",
      "[298]\tvalid_0's binary_logloss: 0.461947\n",
      "[300]\tvalid_0's binary_logloss: 0.461882\n",
      "[302]\tvalid_0's binary_logloss: 0.461879\n",
      "[304]\tvalid_0's binary_logloss: 0.461776\n",
      "[306]\tvalid_0's binary_logloss: 0.461744\n",
      "[308]\tvalid_0's binary_logloss: 0.461617\n",
      "[310]\tvalid_0's binary_logloss: 0.461571\n",
      "[312]\tvalid_0's binary_logloss: 0.46158\n",
      "[314]\tvalid_0's binary_logloss: 0.461566\n",
      "[316]\tvalid_0's binary_logloss: 0.461556\n",
      "[318]\tvalid_0's binary_logloss: 0.461529\n",
      "[320]\tvalid_0's binary_logloss: 0.461504\n",
      "[322]\tvalid_0's binary_logloss: 0.461576\n",
      "[324]\tvalid_0's binary_logloss: 0.461581\n",
      "[326]\tvalid_0's binary_logloss: 0.461578\n",
      "[328]\tvalid_0's binary_logloss: 0.461563\n",
      "[330]\tvalid_0's binary_logloss: 0.461556\n",
      "Early stopping, best iteration is:\n",
      "[320]\tvalid_0's binary_logloss: 0.461504\n"
     ]
    },
    {
     "data": {
      "text/plain": [
       "LGBMClassifier(boosting_type='GBDT', class_weight=None, colsample_bytree=1.0,\n",
       "        importance_type='split', learning_rate=0.1, max_depth=-1,\n",
       "        min_child_samples=212, min_child_weight=0.001, min_split_gain=0.0,\n",
       "        n_estimators=1000, n_jobs=20, num_leaves=128, objective='binary',\n",
       "        random_state=1, reg_alpha=0.0, reg_lambda=0.01, silent=True,\n",
       "        subsample=1.0, subsample_for_bin=200000, subsample_freq=0)"
      ]
     },
     "execution_count": 19,
     "metadata": {},
     "output_type": "execute_result"
    }
   ],
   "source": [
    "import lightgbm as lgb\n",
    "lgb_clf = lgb.LGBMClassifier(n_jobs=20, objective='binary',random_state=1)\n",
    "opt_params = {'n_estimators':1000,\n",
    "              'boosting_type': 'GBDT',\n",
    "              'objective': 'binary',\n",
    "              'num_leaves': 128,\n",
    "              'min_child_samples':212,\n",
    "              'reg_lambda':0.01}\n",
    "fit_params = {'early_stopping_rounds':10,\n",
    "              'eval_metric': 'accuracy',\n",
    "              'eval_set': (valid_order_after1.loc[:, user_vec_name + deal_vec_name], valid_order_after1.rating),\n",
    "              'verbose': 2,\n",
    "              'callbacks': [lgb.reset_parameter(learning_rate=learning_rate_power)]}\n",
    "lgb_clf.set_params(**opt_params)\n",
    "lgb_clf.fit(train_order_after1.loc[:, user_vec_name + deal_vec_name], train_order_after1.rating,**fit_params)"
   ]
  },
  {
   "cell_type": "code",
   "execution_count": 20,
   "metadata": {},
   "outputs": [],
   "source": [
    "from sklearn.metrics import accuracy_score"
   ]
  },
  {
   "cell_type": "code",
   "execution_count": 22,
   "metadata": {},
   "outputs": [
    {
     "name": "stderr",
     "output_type": "stream",
     "text": [
      "/home/mmde-lab/anaconda3/envs/whxPyEnv/lib/python3.6/site-packages/sklearn/preprocessing/label.py:151: DeprecationWarning: The truth value of an empty array is ambiguous. Returning False, but in future this will result in an error. Use `array.size > 0` to check that an array is not empty.\n",
      "  if diff:\n"
     ]
    },
    {
     "name": "stdout",
     "output_type": "stream",
     "text": [
      "Training accuracy:  0.7962504197851659\n",
      "Validation accuracy:  0.7595964243459971\n",
      "Test accuracy:  0.6803648288583726\n"
     ]
    },
    {
     "name": "stderr",
     "output_type": "stream",
     "text": [
      "/home/mmde-lab/anaconda3/envs/whxPyEnv/lib/python3.6/site-packages/sklearn/preprocessing/label.py:151: DeprecationWarning: The truth value of an empty array is ambiguous. Returning False, but in future this will result in an error. Use `array.size > 0` to check that an array is not empty.\n",
      "  if diff:\n",
      "/home/mmde-lab/anaconda3/envs/whxPyEnv/lib/python3.6/site-packages/sklearn/preprocessing/label.py:151: DeprecationWarning: The truth value of an empty array is ambiguous. Returning False, but in future this will result in an error. Use `array.size > 0` to check that an array is not empty.\n",
      "  if diff:\n"
     ]
    }
   ],
   "source": [
    "print('Training accuracy: ', accuracy_score(train_order_after1.rating, lgb_clf.predict(train_order_after1.loc[:, user_vec_name + deal_vec_name])))\n",
    "print('Validation accuracy: ', accuracy_score(valid_order_after1.rating, lgb_clf.predict(valid_order_after1.loc[:, user_vec_name + deal_vec_name])))\n",
    "print('Test accuracy: ', accuracy_score(test_order_after1.rating, lgb_clf.predict(test_order_after1.loc[:, user_vec_name + deal_vec_name])))"
   ]
  },
  {
   "cell_type": "code",
   "execution_count": 37,
   "metadata": {},
   "outputs": [
    {
     "name": "stdout",
     "output_type": "stream",
     "text": [
      "Training until validation scores don't improve for 10 rounds.\n",
      "[2]\tvalid_0's binary_logloss: 0.582983\n",
      "[4]\tvalid_0's binary_logloss: 0.540094\n",
      "[6]\tvalid_0's binary_logloss: 0.515747\n",
      "[8]\tvalid_0's binary_logloss: 0.504752\n",
      "[10]\tvalid_0's binary_logloss: 0.501868\n",
      "[12]\tvalid_0's binary_logloss: 0.502893\n",
      "[14]\tvalid_0's binary_logloss: 0.50477\n",
      "[16]\tvalid_0's binary_logloss: 0.503074\n",
      "[18]\tvalid_0's binary_logloss: 0.504503\n",
      "[20]\tvalid_0's binary_logloss: 0.507879\n",
      "Early stopping, best iteration is:\n",
      "[11]\tvalid_0's binary_logloss: 0.501463\n"
     ]
    },
    {
     "data": {
      "text/plain": [
       "LGBMClassifier(boosting_type='GBDT', class_weight=None, colsample_bytree=1.0,\n",
       "        importance_type='split', learning_rate=0.1, max_depth=-1,\n",
       "        min_child_samples=212, min_child_weight=0.001, min_split_gain=0.0,\n",
       "        n_estimators=1000, n_jobs=20, num_leaves=2452, objective='binary',\n",
       "        random_state=1, reg_alpha=0.0, reg_lambda=0.01, silent=True,\n",
       "        subsample=1.0, subsample_for_bin=200000, subsample_freq=0)"
      ]
     },
     "execution_count": 37,
     "metadata": {},
     "output_type": "execute_result"
    }
   ],
   "source": [
    "fit_params = {'early_stopping_rounds':10,\n",
    "              'eval_metric': 'accuracy',\n",
    "              'eval_set': (test_order_after1.loc[:, user_vec_name + deal_vec_name], test_order_after1.rating),\n",
    "              'verbose': 2,\n",
    "              'callbacks': [lgb.reset_parameter(learning_rate=learning_rate_power)]}\n",
    "lgb_clf.fit(train_order_after1.loc[:, user_vec_name + deal_vec_name].append(valid_order_after1.loc[:, user_vec_name + deal_vec_name]),\n",
    "            train_order_after1.rating.append(valid_order_after1.rating),**fit_params)"
   ]
  },
  {
   "cell_type": "code",
   "execution_count": 14,
   "metadata": {},
   "outputs": [
    {
     "name": "stderr",
     "output_type": "stream",
     "text": [
      "/home/mmde-lab/anaconda3/envs/whxPyEnv/lib/python3.6/site-packages/sklearn/preprocessing/label.py:151: DeprecationWarning: The truth value of an empty array is ambiguous. Returning False, but in future this will result in an error. Use `array.size > 0` to check that an array is not empty.\n",
      "  if diff:\n"
     ]
    },
    {
     "name": "stdout",
     "output_type": "stream",
     "text": [
      "Training accuracy:  0.7962504197851659\n",
      "Validation accuracy:  0.7595964243459971\n",
      "Test accuracy:  0.6803648288583726\n"
     ]
    },
    {
     "name": "stderr",
     "output_type": "stream",
     "text": [
      "/home/mmde-lab/anaconda3/envs/whxPyEnv/lib/python3.6/site-packages/sklearn/preprocessing/label.py:151: DeprecationWarning: The truth value of an empty array is ambiguous. Returning False, but in future this will result in an error. Use `array.size > 0` to check that an array is not empty.\n",
      "  if diff:\n",
      "/home/mmde-lab/anaconda3/envs/whxPyEnv/lib/python3.6/site-packages/sklearn/preprocessing/label.py:151: DeprecationWarning: The truth value of an empty array is ambiguous. Returning False, but in future this will result in an error. Use `array.size > 0` to check that an array is not empty.\n",
      "  if diff:\n"
     ]
    }
   ],
   "source": [
    "print('Training accuracy: ', accuracy_score(train_order_after1.rating, lgb_clf.predict(train_order_after1.loc[:, user_vec_name + deal_vec_name])))\n",
    "print('Validation accuracy: ', accuracy_score(valid_order_after1.rating, lgb_clf.predict(valid_order_after1.loc[:, user_vec_name + deal_vec_name])))\n",
    "print('Test accuracy: ', accuracy_score(test_order_after1.rating, lgb_clf.predict(test_order_after1.loc[:, user_vec_name + deal_vec_name])))"
   ]
  },
  {
   "cell_type": "markdown",
   "metadata": {},
   "source": [
    "# num_leaves Training,  Validation,  Test accuracy\n",
    "## 2452  0.9995961322345008  0.8859571080726728  0.885279132197447\n",
    "## 128  0.8705369685334332 0.8538771305487919  0.8530652495480195 \n",
    "##  512  0.9281548510957108  0.8754495223824686  0.874815098887854\n",
    "##  1024 0.9683391084472748  0.8812839483049261  0.8805844350138439"
   ]
  },
  {
   "cell_type": "markdown",
   "metadata": {},
   "source": [
    "# num_leaves Training,  Validation,  Test accuracy     (trainset_embedding)\n",
    "## 2452  0.8309327426677791  0.7795451557775733  0.6574093051854888\n",
    "## 1024  0.8273837007365532  0.774582621269883  0.6569993851199016\n",
    "## 512   0.820963663779482  0.7741882476666229  0.6592539454806313"
   ]
  }
 ],
 "metadata": {
  "hide_input": false,
  "kernelspec": {
   "display_name": "Python 3",
   "language": "python",
   "name": "python3"
  },
  "language_info": {
   "codemirror_mode": {
    "name": "ipython",
    "version": 3
   },
   "file_extension": ".py",
   "mimetype": "text/x-python",
   "name": "python",
   "nbconvert_exporter": "python",
   "pygments_lexer": "ipython3",
   "version": "3.6.8"
  }
 },
 "nbformat": 4,
 "nbformat_minor": 2
}
