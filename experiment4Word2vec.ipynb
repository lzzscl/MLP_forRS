{
 "cells": [
  {
   "cell_type": "code",
   "execution_count": 1,
   "metadata": {},
   "outputs": [],
   "source": [
    "import pandas as pd\n",
    "import numpy as np\n",
    "import gc\n",
    "import re\n",
    "from gensim.models import Word2Vec\n",
    "from gensim.models import Phrases\n",
    "from gensim.models.phrases import Phraser\n",
    "from sklearn.manifold import TSNE\n",
    "import matplotlib.pyplot as plt\n",
    "import logging\n",
    "logging.basicConfig(format='%(asctime)s:%(levelname)s : %(message)s', level=logging.INFO)\n",
    "\n",
    "%matplotlib inline"
   ]
  },
  {
   "cell_type": "code",
   "execution_count": null,
   "metadata": {},
   "outputs": [],
   "source": [
    "corpus = np.load('session_based_corpus_trainset.npy')"
   ]
  },
  {
   "cell_type": "code",
   "execution_count": 4,
   "metadata": {},
   "outputs": [],
   "source": [
    "corpus = np.load('session_based_user_corpus_trainset.npy')"
   ]
  },
  {
   "cell_type": "code",
   "execution_count": 2,
   "metadata": {},
   "outputs": [],
   "source": [
    "corpus = np.load('corpus_dealonly.npy')"
   ]
  },
  {
   "cell_type": "code",
   "execution_count": null,
   "metadata": {},
   "outputs": [],
   "source": [
    "model = Word2Vec(iter=1,compute_loss = True, min_count = 1, size = 200, window = 5, workers = 10, sg = 1, hs = 0, negative = 10)\n",
    "model.build_vocab(corpus)\n",
    "#model.train(corpus, total_examples=model.corpus_count, epochs=model.iter)\n",
    "model.get_latest_training_loss()\n",
    "alpha = 0.025\n",
    "alpha_delta = 0.001\n",
    "passes = 62\n",
    "\n",
    "loss_val_list = []\n",
    "for epoch in range(passes):\n",
    "    model.alpha, model.min_alpha = alpha, alpha\n",
    "    model.train(corpus, total_examples=model.corpus_count, epochs=model.iter, compute_loss = True)\n",
    "    alpha -= alpha_delta\n",
    "    loss_val_list.append(model.get_latest_training_loss())\n",
    "    print('------------------------------------')\n",
    "    print('The loss of '+ str(epoch) + ' epoch is '+ str(model.get_latest_training_loss()))\n",
    "    print('------------------------------------')"
   ]
  },
  {
   "cell_type": "code",
   "execution_count": 26,
   "metadata": {},
   "outputs": [
    {
     "data": {
      "image/png": "[encoded data removed]",
      "text/plain": [
       "<Figure size 432x288 with 1 Axes>"
      ]
     },
     "metadata": {},
     "output_type": "display_data"
    }
   ],
   "source": [
    "plt.plot(loss_val_list[50:])\n",
    "plt.xlabel('epoch')\n",
    "plt.ylabel('loss')\n",
    "plt.show()"
   ]
  },
  {
   "cell_type": "code",
   "execution_count": 27,
   "metadata": {},
   "outputs": [
    {
     "data": {
      "text/plain": [
       "4053.016357421875"
      ]
     },
     "execution_count": 27,
     "metadata": {},
     "output_type": "execute_result"
    }
   ],
   "source": [
    "min(loss_val_list)"
   ]
  },
  {
   "cell_type": "code",
   "execution_count": 28,
   "metadata": {},
   "outputs": [
    {
     "name": "stderr",
     "output_type": "stream",
     "text": [
      "2019-03-15 16:54:17,181:INFO : saving Word2Vec object under /tmp/session_based_user_word2vec_model, separately None\n",
      "2019-03-15 16:54:17,182:INFO : storing np array 'vectors' to /tmp/session_based_user_word2vec_model.wv.vectors.npy\n",
      "2019-03-15 16:54:17,403:INFO : not storing attribute vectors_norm\n",
      "2019-03-15 16:54:17,403:INFO : storing np array 'syn1neg' to /tmp/session_based_user_word2vec_model.trainables.syn1neg.npy\n",
      "2019-03-15 16:54:18,271:INFO : not storing attribute cum_table\n",
      "2019-03-15 16:54:19,015:INFO : saved /tmp/session_based_user_word2vec_model\n"
     ]
    }
   ],
   "source": [
    "model.save('/tmp/session_based_user_word2vec_model')"
   ]
  },
  {
   "cell_type": "code",
   "execution_count": null,
   "metadata": {},
   "outputs": [],
   "source": [
    "model = Word2Vec.load('/tmp/word2vec_model')"
   ]
  }
 ],
 "metadata": {
  "hide_input": false,
  "kernelspec": {
   "display_name": "Python 3",
   "language": "python",
   "name": "python3"
  },
  "language_info": {
   "codemirror_mode": {
    "name": "ipython",
    "version": 3
   },
   "file_extension": ".py",
   "mimetype": "text/x-python",
   "name": "python",
   "nbconvert_exporter": "python",
   "pygments_lexer": "ipython3",
   "version": "3.6.6"
  }
 },
 "nbformat": 4,
 "nbformat_minor": 2
}
