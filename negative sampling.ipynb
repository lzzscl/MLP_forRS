{
 "cells": [
  {
   "cell_type": "code",
   "execution_count": 1,
   "metadata": {},
   "outputs": [],
   "source": [
    "import pandas as pd\n",
    "import numpy as np\n",
    "import random\n",
    "import datetime\n",
    "import matplotlib.pyplot as plt\n",
    "import warnings\n",
    "warnings.filterwarnings('ignore')\n",
    "\n",
    "%matplotlib inline\n",
    "\n",
    "work_path = '/home/mmde-lab/s3/59e875d818c7b/'\n",
    "#account_path = 'kddi_r_account_full_20180410.tsv.gz'\n",
    "order_path = 'kddi_r_pay_order.tsv.gz'\n",
    "#deal_path = 'kddi_r_deal.tsv_20180328.gz'\n",
    "#deal_profile_path = 'kddi_r_deal_profile_20180427.tsv.gz'\n",
    "#deal_profile_path2 = 'kddi_r_deal_profile_20171222.tsv.gz'\n",
    "#df_account = pd.read_csv(work_path + account_path, sep = '\\t', compression='gzip')\n",
    "df_order = pd.read_csv(work_path + order_path, sep = '\\t', compression='gzip')\n",
    "#df_deal = pd.read_csv(work_path + deal_path, sep = '\\t', compression='gzip')\n",
    "#df_dealprofile = pd.read_csv(work_path + deal_profile_path, sep = '\\t', compression='gzip')\n",
    "#df_dealprofile2 = pd.read_csv(work_path + deal_profile_path2, sep = '\\t', compression='gzip')"
   ]
  },
  {
   "cell_type": "code",
   "execution_count": 2,
   "metadata": {},
   "outputs": [],
   "source": [
    "df_order = df_order[['account_id', 'deal_id', 'ins_tm']]\n",
    "df_order['rating'] = 1\n",
    "df_order['ins_tm'] = pd.to_datetime(df_order['ins_tm'],format='%Y-%m-%d %H:%M:%S')\n",
    "df_order['date'] = df_order.ins_tm.dt.date\n",
    "train_order = df_order.loc[df_order.date <= datetime.date(2017,9,14)]\n",
    "valid_order = df_order.loc[df_order.date >= datetime.date(2017,9,15)]\n",
    "valid_order = valid_order.loc[df_order.date <= datetime.date(2017,9,23)]\n",
    "test_order = df_order.loc[df_order.date >= datetime.date(2017,9,24)]"
   ]
  },
  {
   "cell_type": "markdown",
   "metadata": {},
   "source": [
    "# -----user central negative sampling----"
   ]
  },
  {
   "cell_type": "code",
   "execution_count": null,
   "metadata": {},
   "outputs": [],
   "source": []
  }
 ],
 "metadata": {
  "hide_input": false,
  "kernelspec": {
   "display_name": "Python 3",
   "language": "python",
   "name": "python3"
  },
  "language_info": {
   "codemirror_mode": {
    "name": "ipython",
    "version": 3
   },
   "file_extension": ".py",
   "mimetype": "text/x-python",
   "name": "python",
   "nbconvert_exporter": "python",
   "pygments_lexer": "ipython3",
   "version": "3.6.8"
  }
 },
 "nbformat": 4,
 "nbformat_minor": 2
}
