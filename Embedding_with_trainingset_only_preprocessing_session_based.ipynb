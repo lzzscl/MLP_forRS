{
 "cells": [
  {
   "cell_type": "code",
   "execution_count": 1,
   "metadata": {},
   "outputs": [],
   "source": [
    "import pandas as pd\n",
    "import numpy as np\n",
    "import datetime"
   ]
  },
  {
   "cell_type": "code",
   "execution_count": 2,
   "metadata": {},
   "outputs": [],
   "source": [
    "work_path = '/home/mmde-lab/s3/59e875d818c7b/'\n",
    "order_path = 'kddi_r_pay_order.tsv.gz'\n",
    "df_order = pd.read_csv(work_path + order_path, sep = '\\t', compression='gzip')"
   ]
  },
  {
   "cell_type": "code",
   "execution_count": 3,
   "metadata": {},
   "outputs": [
    {
     "data": {
      "text/plain": [
       "('2016-10-01 00:00:01', '2017-09-30 23:59:58')"
      ]
     },
     "execution_count": 3,
     "metadata": {},
     "output_type": "execute_result"
    }
   ],
   "source": [
    "df_order.ins_tm.min(), df_order.ins_tm.max()"
   ]
  },
  {
   "cell_type": "code",
   "execution_count": 4,
   "metadata": {},
   "outputs": [],
   "source": [
    "df_order['ins_tm'] = pd.to_datetime(df_order['ins_tm'],format='%Y-%m-%d %H:%M:%S')"
   ]
  },
  {
   "cell_type": "code",
   "execution_count": 5,
   "metadata": {},
   "outputs": [],
   "source": [
    "df_order['date'] = df_order.ins_tm.dt.date"
   ]
  },
  {
   "cell_type": "code",
   "execution_count": 6,
   "metadata": {},
   "outputs": [],
   "source": [
    "train_order = df_order.loc[df_order.date <= datetime.date(2017,9,14)]"
   ]
  },
  {
   "cell_type": "code",
   "execution_count": 7,
   "metadata": {},
   "outputs": [],
   "source": [
    "valid_order = df_order.loc[df_order.date >= datetime.date(2017,9,15)]\n",
    "valid_order = valid_order.loc[df_order.date <= datetime.date(2017,9,23)]"
   ]
  },
  {
   "cell_type": "code",
   "execution_count": 8,
   "metadata": {},
   "outputs": [],
   "source": [
    "test_order = df_order.loc[df_order.date >= datetime.date(2017,9,24)]"
   ]
  },
  {
   "cell_type": "code",
   "execution_count": 9,
   "metadata": {},
   "outputs": [
    {
     "name": "stderr",
     "output_type": "stream",
     "text": [
      "/home/mmde-lab/anaconda3/envs/whxPyEnv/lib/python3.6/site-packages/pandas/core/generic.py:4405: SettingWithCopyWarning: \n",
      "A value is trying to be set on a copy of a slice from a DataFrame.\n",
      "Try using .loc[row_indexer,col_indexer] = value instead\n",
      "\n",
      "See the caveats in the documentation: http://pandas.pydata.org/pandas-docs/stable/indexing.html#indexing-view-versus-copy\n",
      "  self[name] = value\n"
     ]
    }
   ],
   "source": [
    "# Get corpus from trainingset \n",
    "train_order.deal_id = train_order.deal_id.map(lambda x: str(x))\n",
    "grouped_order = train_order.groupby('account_id').apply(lambda x: ' '.join(list(x['deal_id'])))\n",
    "Input_Data = pd.DataFrame(grouped_order)\n",
    "Input_Data = Input_Data.reset_index(drop = True)\n",
    "Input_Data = Input_Data.iloc[:,0].values\n",
    "corpus = []\n",
    "for line in Input_Data:\n",
    "    words = [x for x in line.split(' ')]\n",
    "    corpus.append(words)\n",
    "np.save('session_based_corpus_trainset.npy', corpus)"
   ]
  },
  {
   "cell_type": "code",
   "execution_count": 10,
   "metadata": {},
   "outputs": [],
   "source": [
    "from gensim.models import Word2Vec\n",
    "from gensim.models import TfidfModel\n",
    "from gensim import corpora\n",
    "model = Word2Vec.load('/tmp/session_based_trainset_word2vec_model')\n",
    "corpus = np.load('session_based_corpus_trainset.npy')\n",
    "dictionary = corpora.Dictionary(corpus)\n",
    "dictionary.filter_extremes(no_below=1, no_above=1, keep_n=300000, keep_tokens=None)\n",
    "corpus_dict = [dictionary.doc2bow(text) for text in corpus]\n",
    "tfidf = TfidfModel(corpus_dict)"
   ]
  },
  {
   "cell_type": "code",
   "execution_count": 11,
   "metadata": {},
   "outputs": [
    {
     "name": "stderr",
     "output_type": "stream",
     "text": [
      "/home/mmde-lab/anaconda3/envs/whxPyEnv/lib/python3.6/site-packages/ipykernel_launcher.py:8: DeprecationWarning: Call to deprecated `__getitem__` (Method will be removed in 4.0.0, use self.wv.__getitem__() instead).\n",
      "  \n"
     ]
    }
   ],
   "source": [
    "sell_count = train_order.deal_id.value_counts()\n",
    "sell = pd.DataFrame(sell_count)\n",
    "sell = sell.rename(columns= {'deal_id':'sell_count'})\n",
    "sell = sell.reset_index()\n",
    "sell.columns = ['deal_id','sell_count']\n",
    "def calcu_item2vec(raw_des):\n",
    "    itemvec = np.zeros([1,200], dtype = float)\n",
    "    itemvec = model[str(raw_des)]\n",
    "    return itemvec\n",
    "sell['dealvec'] = sell.deal_id.map(lambda x: calcu_item2vec(x))"
   ]
  },
  {
   "cell_type": "code",
   "execution_count": 12,
   "metadata": {},
   "outputs": [],
   "source": [
    "sell.to_csv('df_item_sbwin5_trainset.csv.gz', compression = 'gzip')"
   ]
  },
  {
   "cell_type": "code",
   "execution_count": 13,
   "metadata": {},
   "outputs": [
    {
     "name": "stderr",
     "output_type": "stream",
     "text": [
      "/home/mmde-lab/anaconda3/envs/whxPyEnv/lib/python3.6/site-packages/pandas/core/generic.py:4405: SettingWithCopyWarning: \n",
      "A value is trying to be set on a copy of a slice from a DataFrame.\n",
      "Try using .loc[row_indexer,col_indexer] = value instead\n",
      "\n",
      "See the caveats in the documentation: http://pandas.pydata.org/pandas-docs/stable/indexing.html#indexing-view-versus-copy\n",
      "  self[name] = value\n",
      "/home/mmde-lab/anaconda3/envs/whxPyEnv/lib/python3.6/site-packages/ipykernel_launcher.py:12: DeprecationWarning: Call to deprecated `__getitem__` (Method will be removed in 4.0.0, use self.wv.__getitem__() instead).\n",
      "  if sys.path[0] == '':\n"
     ]
    }
   ],
   "source": [
    "train_order.deal_id = train_order.deal_id.map(lambda x: str(x))\n",
    "grouped_order = train_order.groupby('account_id').apply(lambda x: ' '.join(list(x['deal_id'])))\n",
    "Input_Data = pd.DataFrame(grouped_order)\n",
    "Input_Data = Input_Data.reset_index(drop = False)\n",
    "Input_Data.columns = ['account_id', 'deal_id']\n",
    "df_user_sbwin5 = Input_Data\n",
    "df_user_sbwin5.deal_id = df_user_sbwin5.deal_id.map(lambda x: x.split(' '))\n",
    "def calcu_user2vec(raw_des):\n",
    "    user_corpus = dictionary.doc2bow(raw_des)\n",
    "    uservec = np.zeros([1,200], dtype = float)\n",
    "    for j in range(len(user_corpus)):\n",
    "        uservec += tfidf[user_corpus][j][1]*model[dictionary.get(user_corpus[j][0])]\n",
    "    return uservec\n",
    "df_user_sbwin5['uservec'] = df_user_sbwin5.deal_id.map(lambda x: calcu_user2vec(x))\n",
    "df_user_sbwin5.to_csv('df_user_sbwin5_trainset.csv.gz', compression = 'gzip')"
   ]
  },
  {
   "cell_type": "code",
   "execution_count": null,
   "metadata": {},
   "outputs": [],
   "source": []
  }
 ],
 "metadata": {
  "hide_input": false,
  "kernelspec": {
   "display_name": "Python 3",
   "language": "python",
   "name": "python3"
  },
  "language_info": {
   "codemirror_mode": {
    "name": "ipython",
    "version": 3
   },
   "file_extension": ".py",
   "mimetype": "text/x-python",
   "name": "python",
   "nbconvert_exporter": "python",
   "pygments_lexer": "ipython3",
   "version": "3.6.8"
  }
 },
 "nbformat": 4,
 "nbformat_minor": 2
}
