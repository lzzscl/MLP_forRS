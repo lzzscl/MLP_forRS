{
 "cells": [
  {
   "cell_type": "code",
   "execution_count": 1,
   "metadata": {},
   "outputs": [
    {
     "name": "stderr",
     "output_type": "stream",
     "text": [
      "Using TensorFlow backend.\n"
     ]
    }
   ],
   "source": [
    "import pandas as pd\n",
    "import numpy as np\n",
    "import keras\n",
    "from IPython.display import SVG\n",
    "from keras.optimizers import Adam\n",
    "from keras.utils.vis_utils import model_to_dot\n",
    "import random\n",
    "import datetime\n",
    "import matplotlib.pyplot as plt\n",
    "import warnings\n",
    "warnings.filterwarnings('ignore')\n",
    "\n",
    "%matplotlib inline\n",
    "\n",
    "account_path = 'kddi_r_account_full_20180410.tsv.gz'\n",
    "order_path = 'kddi_r_pay_order.tsv.gz'\n",
    "deal_path = 'kddi_r_deal.tsv_20180328.gz'\n",
    "deal_profile_path = 'kddi_r_deal_profile_20180427.tsv.gz'\n",
    "work_path = '/home/mmde-lab/s3/59e875d818c7b/'\n",
    "deal_profile_path2 = 'kddi_r_deal_profile_20171222.tsv.gz'\n",
    "#df_account = pd.read_csv(work_path + account_path, sep = '\\t', compression='gzip')\n",
    "df_order = pd.read_csv(work_path + order_path, sep = '\\t', compression='gzip')\n",
    "#df_deal = pd.read_csv(work_path + deal_path, sep = '\\t', compression='gzip')\n",
    "#df_dealprofile = pd.read_csv(work_path + deal_profile_path, sep = '\\t', compression='gzip')\n",
    "#df_dealprofile2 = pd.read_csv(work_path + deal_profile_path2, sep = '\\t', compression='gzip')"
   ]
  },
  {
   "cell_type": "code",
   "execution_count": 2,
   "metadata": {},
   "outputs": [],
   "source": [
    "df_order = df_order[['account_id', 'deal_id', 'ins_tm']]\n",
    "df_order['rating'] = 1\n",
    "#df_order.deal_id = df_order.deal_id.map(lambda x: str(x))\n",
    "#df_order.account_id = df_order.account_id.map(lambda x: str(x))"
   ]
  },
  {
   "cell_type": "code",
   "execution_count": 3,
   "metadata": {},
   "outputs": [
    {
     "data": {
      "text/plain": [
       "341409"
      ]
     },
     "execution_count": 3,
     "metadata": {},
     "output_type": "execute_result"
    }
   ],
   "source": [
    "len(df_order.account_id.value_counts())"
   ]
  },
  {
   "cell_type": "code",
   "execution_count": 3,
   "metadata": {},
   "outputs": [],
   "source": [
    "df_order['ins_tm'] = pd.to_datetime(df_order['ins_tm'],format='%Y-%m-%d %H:%M:%S')\n",
    "df_order['date'] = df_order.ins_tm.dt.date\n",
    "train_order = df_order.loc[df_order.date <= datetime.date(2017,9,14)]\n",
    "valid_order = df_order.loc[df_order.date >= datetime.date(2017,9,15)]\n",
    "valid_order = valid_order.loc[df_order.date <= datetime.date(2017,9,23)]"
   ]
  },
  {
   "cell_type": "code",
   "execution_count": 4,
   "metadata": {},
   "outputs": [],
   "source": [
    "test_order = df_order.loc[df_order.date >= datetime.date(2017,9,24)]"
   ]
  },
  {
   "cell_type": "code",
   "execution_count": 6,
   "metadata": {},
   "outputs": [
    {
     "data": {
      "text/plain": [
       "((1582936, 5), (65564, 5), (34201, 5))"
      ]
     },
     "execution_count": 6,
     "metadata": {},
     "output_type": "execute_result"
    }
   ],
   "source": [
    "train_order.shape, valid_order.shape, test_order.shape"
   ]
  },
  {
   "cell_type": "code",
   "execution_count": 7,
   "metadata": {},
   "outputs": [],
   "source": [
    "item_list = list(train_order.deal_id.unique())\n",
    "user_list = list(train_order.account_id.unique())"
   ]
  },
  {
   "cell_type": "code",
   "execution_count": 8,
   "metadata": {},
   "outputs": [
    {
     "data": {
      "text/plain": [
       "(64762, 328756)"
      ]
     },
     "execution_count": 8,
     "metadata": {},
     "output_type": "execute_result"
    }
   ],
   "source": [
    "len(item_list), len(user_list)"
   ]
  },
  {
   "cell_type": "code",
   "execution_count": 9,
   "metadata": {},
   "outputs": [
    {
     "data": {
      "text/plain": [
       "60.28148535692124"
      ]
     },
     "execution_count": 9,
     "metadata": {},
     "output_type": "execute_result"
    }
   ],
   "source": [
    "(train_order.account_id.value_counts() >= 2).sum() / (train_order.account_id.value_counts() >= 1).sum() *100"
   ]
  },
  {
   "cell_type": "markdown",
   "metadata": {},
   "source": [
    "# ----------------------------------------------------------------------------------\n",
    "## user central negative sampling"
   ]
  },
  {
   "cell_type": "code",
   "execution_count": 15,
   "metadata": {},
   "outputs": [
    {
     "name": "stdout",
     "output_type": "stream",
     "text": [
      "0/328756finished!\n",
      "10000/328756finished!\n",
      "20000/328756finished!\n",
      "30000/328756finished!\n",
      "40000/328756finished!\n",
      "50000/328756finished!\n",
      "60000/328756finished!\n",
      "70000/328756finished!\n",
      "80000/328756finished!\n",
      "90000/328756finished!\n",
      "100000/328756finished!\n",
      "110000/328756finished!\n",
      "120000/328756finished!\n",
      "130000/328756finished!\n",
      "140000/328756finished!\n",
      "150000/328756finished!\n",
      "160000/328756finished!\n",
      "170000/328756finished!\n",
      "180000/328756finished!\n",
      "190000/328756finished!\n",
      "200000/328756finished!\n",
      "210000/328756finished!\n",
      "220000/328756finished!\n",
      "230000/328756finished!\n",
      "240000/328756finished!\n",
      "250000/328756finished!\n",
      "260000/328756finished!\n",
      "270000/328756finished!\n",
      "280000/328756finished!\n",
      "290000/328756finished!\n",
      "300000/328756finished!\n",
      "310000/328756finished!\n",
      "320000/328756finished!\n"
     ]
    }
   ],
   "source": [
    "item_list = list(train_order.deal_id.unique())\n",
    "user_list = list(train_order.account_id.unique())\n",
    "\n",
    "num_epo = 0\n",
    "Negative_sample = []\n",
    "for user in user_list:\n",
    "    bought_list = list(train_order[train_order.account_id == user].deal_id.values)\n",
    "    negative_list = list(set(item_list)^set(bought_list))\n",
    "    some = random.sample(negative_list, len(bought_list))\n",
    "    for i in range(len(bought_list)):\n",
    "        Negative_sample.append([user, some[i], 0])\n",
    "    if num_epo%10000 == 0:\n",
    "        print(str(num_epo) + '/' + str(len(user_list)) + 'finished!')\n",
    "    num_epo += 1\n",
    "df_Ns = pd.DataFrame(Negative_sample, columns=['account_id', 'deal_id', 'rating'])\n",
    "train_order = train_order.append(df_Ns, ignore_index=True)\n",
    "train_order.to_csv('train_order_add_negasmpl.gz', compression = 'gzip')"
   ]
  },
  {
   "cell_type": "code",
   "execution_count": 15,
   "metadata": {},
   "outputs": [
    {
     "name": "stdout",
     "output_type": "stream",
     "text": [
      "0/33803finished!\n",
      "10000/33803finished!\n",
      "20000/33803finished!\n",
      "30000/33803finished!\n"
     ]
    }
   ],
   "source": [
    "item_list = list(set(valid_order.deal_id.unique())&set(train_order.deal_id.unique()))\n",
    "user_list = list(set(valid_order.account_id.unique())&set(train_order.account_id.unique()))\n",
    "\n",
    "num_epo = 0\n",
    "Negative_sample = []\n",
    "for user in user_list:\n",
    "    bought_list = list(valid_order[valid_order.account_id == user].deal_id.values)\n",
    "    negative_list = list(set(item_list)-set(bought_list))\n",
    "    some = random.sample(negative_list, len(set(bought_list)&set(item_list)))\n",
    "    for i in range(len(set(bought_list)&set(item_list))):\n",
    "        Negative_sample.append([user, some[i], 0])\n",
    "    if num_epo%10000 == 0:\n",
    "        print(str(num_epo) + '/' + str(len(user_list)) + 'finished!')\n",
    "    num_epo += 1\n",
    "df_Ns = pd.DataFrame(Negative_sample, columns=['account_id', 'deal_id', 'rating'])\n",
    "valid_order = valid_order.append(df_Ns, ignore_index=True)\n",
    "valid_order.to_csv('valid_order_add_negasmpl.gz', compression = 'gzip')"
   ]
  },
  {
   "cell_type": "code",
   "execution_count": 5,
   "metadata": {},
   "outputs": [
    {
     "name": "stdout",
     "output_type": "stream",
     "text": [
      "0/20044finished!\n",
      "10000/20044finished!\n",
      "20000/20044finished!\n"
     ]
    }
   ],
   "source": [
    "item_list = list(set(test_order.deal_id.unique())&set(train_order.deal_id.unique()))\n",
    "user_list = list(set(test_order.account_id.unique())&set(train_order.account_id.unique()))\n",
    "\n",
    "num_epo = 0\n",
    "Negative_sample = []\n",
    "for user in user_list:\n",
    "    bought_list = list(test_order[test_order.account_id == user].deal_id.values)\n",
    "    negative_list = list(set(item_list)-set(bought_list))\n",
    "    some = random.sample(negative_list, len(set(bought_list)&set(item_list)))\n",
    "    for i in range(len(set(bought_list)&set(item_list))):\n",
    "        Negative_sample.append([user, some[i], 0])\n",
    "    if num_epo%10000 == 0:\n",
    "        print(str(num_epo) + '/' + str(len(user_list)) + 'finished!')\n",
    "    num_epo += 1\n",
    "df_Ns = pd.DataFrame(Negative_sample, columns=['account_id', 'deal_id', 'rating'])\n",
    "test_order = test_order.append(df_Ns, ignore_index=True)\n",
    "test_order.to_csv('test_order_add_negasmpl.gz', compression = 'gzip')"
   ]
  },
  {
   "cell_type": "code",
   "execution_count": 16,
   "metadata": {},
   "outputs": [
    {
     "data": {
      "text/plain": [
       "1    65564\n",
       "0    33715\n",
       "Name: rating, dtype: int64"
      ]
     },
     "execution_count": 16,
     "metadata": {},
     "output_type": "execute_result"
    }
   ],
   "source": [
    "valid_order.rating.value_counts()"
   ]
  },
  {
   "cell_type": "markdown",
   "metadata": {},
   "source": [
    "# ----------------------------------------------------------------------------------\n",
    "## product central negative sampling (only4 test set&valid set)"
   ]
  },
  {
   "cell_type": "code",
   "execution_count": 7,
   "metadata": {},
   "outputs": [
    {
     "name": "stdout",
     "output_type": "stream",
     "text": [
      "0/64762finished!\n",
      "10000/64762finished!\n",
      "20000/64762finished!\n",
      "30000/64762finished!\n",
      "40000/64762finished!\n",
      "50000/64762finished!\n",
      "60000/64762finished!\n"
     ]
    }
   ],
   "source": [
    "item_list = list(train_order.deal_id.unique())\n",
    "user_list = list(train_order.account_id.unique())\n",
    "\n",
    "num_epo = 0\n",
    "Negative_sample = []\n",
    "for item in item_list:\n",
    "    bought_user = list(train_order[train_order.deal_id == item].account_id.values)\n",
    "    negative_list = list(set(user_list)-set(bought_user))\n",
    "    some = random.sample(negative_list, len(bought_user))\n",
    "    for i in range(len(bought_user)):\n",
    "        Negative_sample.append([some[i], item, 0])\n",
    "    if num_epo%10000 == 0:\n",
    "        print(str(num_epo) + '/' + str(len(item_list)) + 'finished!')\n",
    "    num_epo += 1\n",
    "df_Ns = pd.DataFrame(Negative_sample, columns=['account_id', 'deal_id', 'rating'])\n",
    "train_order = train_order.append(df_Ns, ignore_index=True)\n",
    "train_order.to_csv('train_order_add_negasmpl_dealcnt.gz', compression = 'gzip')"
   ]
  },
  {
   "cell_type": "code",
   "execution_count": 8,
   "metadata": {},
   "outputs": [
    {
     "name": "stdout",
     "output_type": "stream",
     "text": [
      "0/1284finished!\n"
     ]
    }
   ],
   "source": [
    "item_list = list(set(valid_order.deal_id.unique())&set(train_order.deal_id.unique()))\n",
    "user_list = list(set(valid_order.account_id.unique())&set(train_order.account_id.unique()))\n",
    "\n",
    "num_epo = 0\n",
    "Negative_sample = []\n",
    "for item in item_list:\n",
    "    bought_user = list(valid_order[valid_order.deal_id == item].account_id.values)\n",
    "    negative_list = list(set(user_list)-set(bought_user))\n",
    "    some = random.sample(negative_list, len(set(bought_user)&set(user_list)))\n",
    "    for i in range(len(set(bought_user)&set(user_list))):\n",
    "        Negative_sample.append([some[i], item, 0])\n",
    "    if num_epo%10000 == 0:\n",
    "        print(str(num_epo) + '/' + str(len(item_list)) + 'finished!')\n",
    "    num_epo += 1\n",
    "df_Ns = pd.DataFrame(Negative_sample, columns=['account_id', 'deal_id', 'rating'])\n",
    "valid_order = valid_order.append(df_Ns, ignore_index=True)\n",
    "valid_order.to_csv('valid_order_add_negasmpl_dealcnt.gz', compression = 'gzip')"
   ]
  },
  {
   "cell_type": "code",
   "execution_count": 9,
   "metadata": {},
   "outputs": [
    {
     "data": {
      "text/plain": [
       "1    65564\n",
       "0    33715\n",
       "Name: rating, dtype: int64"
      ]
     },
     "execution_count": 9,
     "metadata": {},
     "output_type": "execute_result"
    }
   ],
   "source": [
    "valid_order.rating.value_counts()"
   ]
  },
  {
   "cell_type": "code",
   "execution_count": 10,
   "metadata": {},
   "outputs": [
    {
     "name": "stdout",
     "output_type": "stream",
     "text": [
      "0/183finished!\n"
     ]
    }
   ],
   "source": [
    "item_list = list(set(test_order.deal_id.unique())&set(train_order.deal_id.unique()))\n",
    "user_list = list(set(test_order.account_id.unique())&set(train_order.account_id.unique()))\n",
    "\n",
    "num_epo = 0\n",
    "Negative_sample = []\n",
    "for item in item_list:\n",
    "    bought_user = list(test_order[test_order.deal_id == item].account_id.values)\n",
    "    negative_list = list(set(user_list)-set(bought_user))\n",
    "    some = random.sample(negative_list, len(set(bought_user)&set(user_list)))\n",
    "    for i in range(len(set(bought_user)&set(user_list))):\n",
    "        Negative_sample.append([some[i], item, 0])\n",
    "    if num_epo%10000 == 0:\n",
    "        print(str(num_epo) + '/' + str(len(item_list)) + 'finished!')\n",
    "    num_epo += 1\n",
    "df_Ns = pd.DataFrame(Negative_sample, columns=['account_id', 'deal_id', 'rating'])\n",
    "test_order = test_order.append(df_Ns, ignore_index=True)\n",
    "test_order.to_csv('test_order_add_negasmpl_dealcnt.gz', compression = 'gzip')"
   ]
  },
  {
   "cell_type": "code",
   "execution_count": 11,
   "metadata": {},
   "outputs": [
    {
     "data": {
      "text/plain": [
       "1    34201\n",
       "0     3332\n",
       "Name: rating, dtype: int64"
      ]
     },
     "execution_count": 11,
     "metadata": {},
     "output_type": "execute_result"
    }
   ],
   "source": [
    "test_order.rating.value_counts()"
   ]
  },
  {
   "cell_type": "markdown",
   "metadata": {},
   "source": [
    "## ----------------------------------------------------------------------------------------------------------\n",
    "## single sampling product central"
   ]
  },
  {
   "cell_type": "code",
   "execution_count": 39,
   "metadata": {},
   "outputs": [
    {
     "name": "stdout",
     "output_type": "stream",
     "text": [
      "0/183finished!\n",
      "50/183finished!\n",
      "100/183finished!\n",
      "150/183finished!\n"
     ]
    }
   ],
   "source": [
    "item_list = list(set(test_order.deal_id.unique())&set(train_order.deal_id.unique()))\n",
    "user_list = list(set(test_order.account_id.unique())&set(train_order.account_id.unique()))\n",
    "\n",
    "num_epo = 0\n",
    "single_sample = []\n",
    "for item in item_list:\n",
    "    bought_user = list(test_order[test_order.deal_id == item].account_id.values)\n",
    "    bought_list = list(set(user_list)&set(bought_user))\n",
    "    negative_list = list(set(user_list)-set(bought_user))\n",
    "    if len(bought_list) >= 1:\n",
    "        positive_some = random.sample(bought_list, 1)\n",
    "        negative_some = random.sample(negative_list, 1)\n",
    "\n",
    "        single_sample.append([positive_some[0], item, 1])\n",
    "        single_sample.append([negative_some[0], item, 0])\n",
    "    if num_epo%50 == 0:\n",
    "        print(str(num_epo) + '/' + str(len(item_list)) + 'finished!')\n",
    "    num_epo += 1\n",
    "df_single_sample = pd.DataFrame(single_sample, columns=['account_id', 'deal_id', 'rating'])\n",
    "\n",
    "df_single_sample.to_csv('test_order_single_sample.gz', compression = 'gzip')"
   ]
  },
  {
   "cell_type": "markdown",
   "metadata": {},
   "source": [
    "## ----------------------------------------------------------------------------------------------------------\n",
    "## single sampling user central"
   ]
  },
  {
   "cell_type": "code",
   "execution_count": 18,
   "metadata": {},
   "outputs": [
    {
     "name": "stdout",
     "output_type": "stream",
     "text": [
      "0/20044finished!\n",
      "1000/20044finished!\n",
      "2000/20044finished!\n",
      "3000/20044finished!\n",
      "4000/20044finished!\n",
      "5000/20044finished!\n",
      "6000/20044finished!\n",
      "7000/20044finished!\n",
      "8000/20044finished!\n",
      "9000/20044finished!\n",
      "10000/20044finished!\n",
      "11000/20044finished!\n",
      "12000/20044finished!\n",
      "13000/20044finished!\n",
      "14000/20044finished!\n",
      "15000/20044finished!\n",
      "16000/20044finished!\n",
      "17000/20044finished!\n",
      "18000/20044finished!\n",
      "19000/20044finished!\n",
      "20000/20044finished!\n"
     ]
    }
   ],
   "source": [
    "item_list = list(set(test_order.deal_id.unique())&set(train_order.deal_id.unique()))\n",
    "user_list = list(set(test_order.account_id.unique())&set(train_order.account_id.unique()))\n",
    "\n",
    "num_epo = 0\n",
    "single_sample_uc = []\n",
    "for user in user_list:\n",
    "    bought_list = list(test_order[test_order.account_id == user].deal_id.values)\n",
    "    bought_list = list(set(item_list)&set(bought_list))\n",
    "    negative_list = list(set(item_list)-set(bought_list))\n",
    "    if len(bought_list) >= 1:\n",
    "        positive_some = random.sample(bought_list, 1)\n",
    "        negative_some = random.sample(negative_list, 1)\n",
    "        single_sample_uc.append([user, positive_some[0], 1])\n",
    "        single_sample_uc.append([user, negative_some[0], 0])\n",
    "    if num_epo%1000 == 0:\n",
    "        print(str(num_epo) + '/' + str(len(user_list)) + 'finished!')\n",
    "    num_epo += 1\n",
    "df_single_sample_uc = pd.DataFrame(single_sample_uc, columns=['account_id', 'deal_id', 'rating'])\n",
    "\n",
    "df_single_sample_uc.to_csv('test_order_simple_sample_uc.gz', compression = 'gzip')"
   ]
  },
  {
   "cell_type": "code",
   "execution_count": 19,
   "metadata": {},
   "outputs": [
    {
     "data": {
      "text/plain": [
       "1    3155\n",
       "0    3155\n",
       "Name: rating, dtype: int64"
      ]
     },
     "execution_count": 19,
     "metadata": {},
     "output_type": "execute_result"
    }
   ],
   "source": [
    "df_single_sample_uc.rating.value_counts()"
   ]
  },
  {
   "cell_type": "markdown",
   "metadata": {},
   "source": [
    "# Fully distribution"
   ]
  },
  {
   "cell_type": "code",
   "execution_count": 56,
   "metadata": {},
   "outputs": [
    {
     "name": "stdout",
     "output_type": "stream",
     "text": [
      "0/20044finished!\n",
      "10000/20044finished!\n",
      "20000/20044finished!\n"
     ]
    }
   ],
   "source": [
    "item_list = list(set(test_order.deal_id.unique())&set(train_order.deal_id.unique()))\n",
    "user_list = list(set(test_order.account_id.unique())&set(train_order.account_id.unique()))\n",
    "\n",
    "num_epo = 0\n",
    "Negative_sample = []\n",
    "for user in user_list:\n",
    "    bought_list = list(test_order[test_order.account_id == user].deal_id.values)\n",
    "    bought_train_list = list(train_order[train_order.account_id == user].deal_id.values)\n",
    "    bought_valid_list = list(valid_order[valid_order.account_id == user].deal_id.values)\n",
    "    bought_list = list(set(item_list)&(set(bought_list)|set(bought_train_list)|set(bought_valid_list)))\n",
    "    negative_list = list(set(item_list)-set(bought_list))\n",
    "    #some = random.sample(negative_list, len(set(bought_list)&set(item_list)))\n",
    "    for i in range(len(negative_list)):\n",
    "        Negative_sample.append([user, negative_list[i], 0])\n",
    "    if num_epo%10000 == 0:\n",
    "        print(str(num_epo) + '/' + str(len(user_list)) + 'finished!')\n",
    "    num_epo += 1\n",
    "df_Ns = pd.DataFrame(Negative_sample, columns=['account_id', 'deal_id', 'rating'])\n",
    "test_order = test_order.append(df_Ns, ignore_index=True)\n",
    "test_order.to_csv('test_order_fully_distribution.gz', compression = 'gzip')"
   ]
  },
  {
   "cell_type": "code",
   "execution_count": 57,
   "metadata": {},
   "outputs": [
    {
     "data": {
      "text/plain": [
       "0    3659416\n",
       "1      34201\n",
       "Name: rating, dtype: int64"
      ]
     },
     "execution_count": 57,
     "metadata": {},
     "output_type": "execute_result"
    }
   ],
   "source": [
    "test_order.rating.value_counts()"
   ]
  },
  {
   "cell_type": "markdown",
   "metadata": {},
   "source": [
    "# simple RS"
   ]
  },
  {
   "cell_type": "code",
   "execution_count": 2,
   "metadata": {},
   "outputs": [],
   "source": [
    "train_order = pd.read_csv('train_order_add_negasmpl.gz', compression='gzip')\n",
    "valid_order = pd.read_csv('valid_order_add_negasmpl.gz', compression='gzip')\n",
    "test_order = pd.read_csv('test_order_add_negasmpl.gz', compression='gzip')"
   ]
  },
  {
   "cell_type": "code",
   "execution_count": 3,
   "metadata": {},
   "outputs": [
    {
     "data": {
      "text/plain": [
       "((3165872, 6), (131128, 6), (68402, 6))"
      ]
     },
     "execution_count": 3,
     "metadata": {},
     "output_type": "execute_result"
    }
   ],
   "source": [
    "train_order.shape, valid_order.shape, test_order.shape"
   ]
  },
  {
   "cell_type": "code",
   "execution_count": 4,
   "metadata": {},
   "outputs": [],
   "source": [
    "n_users, n_item = len(df_order.account_id.unique()), len(df_order.deal_id.unique())\n",
    "n_latent_factors = 3"
   ]
  },
  {
   "cell_type": "code",
   "execution_count": 16,
   "metadata": {},
   "outputs": [],
   "source": [
    "item_input = keras.layers.Input(shape=[1], name='Item')\n",
    "item_embedding = keras.layers.Embedding(n_item + 1, n_latent_factors, name='Item-Embedding')(item_input)\n",
    "item_vec = keras.layers.Flatten(name='FlattenItem')(item_embedding)\n",
    "\n",
    "user_input = keras.layers.Input(shape=[1],name='User')\n",
    "user_vec = keras.layers.Flatten(name='FlattenUsers')(keras.layers.Embedding(n_users + 1, n_latent_factors,name='User-Embedding')(user_input))\n",
    "\n",
    "dot = keras.layers.dot([item_vec, user_vec], -1, name='DotProduct')\n",
    "#prod = output = keras.layers.Dense(1, activation='sigmoid')(dot)\n",
    "model = keras.Model([item_input, user_input], dot)\n",
    "model.compile('adam', 'mse', metrics=['accuracy'])"
   ]
  },
  {
   "cell_type": "code",
   "execution_count": 17,
   "metadata": {},
   "outputs": [
    {
     "name": "stdout",
     "output_type": "stream",
     "text": [
      "__________________________________________________________________________________________________\n",
      "Layer (type)                    Output Shape         Param #     Connected to                     \n",
      "==================================================================================================\n",
      "Item (InputLayer)               (None, 1)            0                                            \n",
      "__________________________________________________________________________________________________\n",
      "User (InputLayer)               (None, 1)            0                                            \n",
      "__________________________________________________________________________________________________\n",
      "Item-Embedding (Embedding)      (None, 1, 3)         205377      Item[0][0]                       \n",
      "__________________________________________________________________________________________________\n",
      "User-Embedding (Embedding)      (None, 1, 3)         1024230     User[0][0]                       \n",
      "__________________________________________________________________________________________________\n",
      "FlattenItem (Flatten)           (None, 3)            0           Item-Embedding[0][0]             \n",
      "__________________________________________________________________________________________________\n",
      "FlattenUsers (Flatten)          (None, 3)            0           User-Embedding[0][0]             \n",
      "__________________________________________________________________________________________________\n",
      "DotProduct (Dot)                (None, 1)            0           FlattenItem[0][0]                \n",
      "                                                                 FlattenUsers[0][0]               \n",
      "==================================================================================================\n",
      "Total params: 1,229,607\n",
      "Trainable params: 1,229,607\n",
      "Non-trainable params: 0\n",
      "__________________________________________________________________________________________________\n"
     ]
    }
   ],
   "source": [
    "model.summary()"
   ]
  },
  {
   "cell_type": "code",
   "execution_count": 18,
   "metadata": {},
   "outputs": [
    {
     "name": "stdout",
     "output_type": "stream",
     "text": [
      "Train on 3165872 samples, validate on 131128 samples\n",
      "Epoch 1/20\n"
     ]
    },
    {
     "ename": "InvalidArgumentError",
     "evalue": "indices[0,0] = 401554 is not in [0, 341410)\n\t [[Node: User-Embedding_3/embedding_lookup = GatherV2[Taxis=DT_INT32, Tindices=DT_INT32, Tparams=DT_FLOAT, _class=[\"loc:@training_3/Adam/Assign_5\"], _device=\"/job:localhost/replica:0/task:0/device:CPU:0\"](User-Embedding_3/embeddings/read, User-Embedding_3/Cast, User-Embedding_3/embedding_lookup/axis)]]",
     "output_type": "error",
     "traceback": [
      "\u001b[0;31m---------------------------------------------------------------------------\u001b[0m",
      "\u001b[0;31mInvalidArgumentError\u001b[0m                      Traceback (most recent call last)",
      "\u001b[0;32m<ipython-input-18-ac99f6301986>\u001b[0m in \u001b[0;36m<module>\u001b[0;34m()\u001b[0m\n\u001b[1;32m      7\u001b[0m           \u001b[0mbatch_size\u001b[0m\u001b[0;34m=\u001b[0m\u001b[0;36m128\u001b[0m\u001b[0;34m,\u001b[0m\u001b[0;34m\u001b[0m\u001b[0;34m\u001b[0m\u001b[0m\n\u001b[1;32m      8\u001b[0m           \u001b[0mepochs\u001b[0m\u001b[0;34m=\u001b[0m\u001b[0;36m20\u001b[0m\u001b[0;34m,\u001b[0m\u001b[0;34m\u001b[0m\u001b[0;34m\u001b[0m\u001b[0m\n\u001b[0;32m----> 9\u001b[0;31m           \u001b[0mverbose\u001b[0m\u001b[0;34m=\u001b[0m\u001b[0;32mTrue\u001b[0m\u001b[0;34m,\u001b[0m\u001b[0;34m\u001b[0m\u001b[0;34m\u001b[0m\u001b[0m\n\u001b[0m\u001b[1;32m     10\u001b[0m          \u001b[0;31m#callbacks=[early_stop, check_point]\u001b[0m\u001b[0;34m\u001b[0m\u001b[0;34m\u001b[0m\u001b[0;34m\u001b[0m\u001b[0m\n\u001b[1;32m     11\u001b[0m          )\n",
      "\u001b[0;32m~/anaconda3/envs/whxPyEnv/lib/python3.6/site-packages/keras/engine/training.py\u001b[0m in \u001b[0;36mfit\u001b[0;34m(self, x, y, batch_size, epochs, verbose, callbacks, validation_split, validation_data, shuffle, class_weight, sample_weight, initial_epoch, steps_per_epoch, validation_steps, **kwargs)\u001b[0m\n\u001b[1;32m   1037\u001b[0m                                         \u001b[0minitial_epoch\u001b[0m\u001b[0;34m=\u001b[0m\u001b[0minitial_epoch\u001b[0m\u001b[0;34m,\u001b[0m\u001b[0;34m\u001b[0m\u001b[0;34m\u001b[0m\u001b[0m\n\u001b[1;32m   1038\u001b[0m                                         \u001b[0msteps_per_epoch\u001b[0m\u001b[0;34m=\u001b[0m\u001b[0msteps_per_epoch\u001b[0m\u001b[0;34m,\u001b[0m\u001b[0;34m\u001b[0m\u001b[0;34m\u001b[0m\u001b[0m\n\u001b[0;32m-> 1039\u001b[0;31m                                         validation_steps=validation_steps)\n\u001b[0m\u001b[1;32m   1040\u001b[0m \u001b[0;34m\u001b[0m\u001b[0m\n\u001b[1;32m   1041\u001b[0m     def evaluate(self, x=None, y=None,\n",
      "\u001b[0;32m~/anaconda3/envs/whxPyEnv/lib/python3.6/site-packages/keras/engine/training_arrays.py\u001b[0m in \u001b[0;36mfit_loop\u001b[0;34m(model, f, ins, out_labels, batch_size, epochs, verbose, callbacks, val_f, val_ins, shuffle, callback_metrics, initial_epoch, steps_per_epoch, validation_steps)\u001b[0m\n\u001b[1;32m    197\u001b[0m                     \u001b[0mins_batch\u001b[0m\u001b[0;34m[\u001b[0m\u001b[0mi\u001b[0m\u001b[0;34m]\u001b[0m \u001b[0;34m=\u001b[0m \u001b[0mins_batch\u001b[0m\u001b[0;34m[\u001b[0m\u001b[0mi\u001b[0m\u001b[0;34m]\u001b[0m\u001b[0;34m.\u001b[0m\u001b[0mtoarray\u001b[0m\u001b[0;34m(\u001b[0m\u001b[0;34m)\u001b[0m\u001b[0;34m\u001b[0m\u001b[0;34m\u001b[0m\u001b[0m\n\u001b[1;32m    198\u001b[0m \u001b[0;34m\u001b[0m\u001b[0m\n\u001b[0;32m--> 199\u001b[0;31m                 \u001b[0mouts\u001b[0m \u001b[0;34m=\u001b[0m \u001b[0mf\u001b[0m\u001b[0;34m(\u001b[0m\u001b[0mins_batch\u001b[0m\u001b[0;34m)\u001b[0m\u001b[0;34m\u001b[0m\u001b[0;34m\u001b[0m\u001b[0m\n\u001b[0m\u001b[1;32m    200\u001b[0m                 \u001b[0mouts\u001b[0m \u001b[0;34m=\u001b[0m \u001b[0mto_list\u001b[0m\u001b[0;34m(\u001b[0m\u001b[0mouts\u001b[0m\u001b[0;34m)\u001b[0m\u001b[0;34m\u001b[0m\u001b[0;34m\u001b[0m\u001b[0m\n\u001b[1;32m    201\u001b[0m                 \u001b[0;32mfor\u001b[0m \u001b[0ml\u001b[0m\u001b[0;34m,\u001b[0m \u001b[0mo\u001b[0m \u001b[0;32min\u001b[0m \u001b[0mzip\u001b[0m\u001b[0;34m(\u001b[0m\u001b[0mout_labels\u001b[0m\u001b[0;34m,\u001b[0m \u001b[0mouts\u001b[0m\u001b[0;34m)\u001b[0m\u001b[0;34m:\u001b[0m\u001b[0;34m\u001b[0m\u001b[0;34m\u001b[0m\u001b[0m\n",
      "\u001b[0;32m~/anaconda3/envs/whxPyEnv/lib/python3.6/site-packages/keras/backend/tensorflow_backend.py\u001b[0m in \u001b[0;36m__call__\u001b[0;34m(self, inputs)\u001b[0m\n\u001b[1;32m   2713\u001b[0m                 \u001b[0;32mreturn\u001b[0m \u001b[0mself\u001b[0m\u001b[0;34m.\u001b[0m\u001b[0m_legacy_call\u001b[0m\u001b[0;34m(\u001b[0m\u001b[0minputs\u001b[0m\u001b[0;34m)\u001b[0m\u001b[0;34m\u001b[0m\u001b[0;34m\u001b[0m\u001b[0m\n\u001b[1;32m   2714\u001b[0m \u001b[0;34m\u001b[0m\u001b[0m\n\u001b[0;32m-> 2715\u001b[0;31m             \u001b[0;32mreturn\u001b[0m \u001b[0mself\u001b[0m\u001b[0;34m.\u001b[0m\u001b[0m_call\u001b[0m\u001b[0;34m(\u001b[0m\u001b[0minputs\u001b[0m\u001b[0;34m)\u001b[0m\u001b[0;34m\u001b[0m\u001b[0;34m\u001b[0m\u001b[0m\n\u001b[0m\u001b[1;32m   2716\u001b[0m         \u001b[0;32melse\u001b[0m\u001b[0;34m:\u001b[0m\u001b[0;34m\u001b[0m\u001b[0;34m\u001b[0m\u001b[0m\n\u001b[1;32m   2717\u001b[0m             \u001b[0;32mif\u001b[0m \u001b[0mpy_any\u001b[0m\u001b[0;34m(\u001b[0m\u001b[0mis_tensor\u001b[0m\u001b[0;34m(\u001b[0m\u001b[0mx\u001b[0m\u001b[0;34m)\u001b[0m \u001b[0;32mfor\u001b[0m \u001b[0mx\u001b[0m \u001b[0;32min\u001b[0m \u001b[0minputs\u001b[0m\u001b[0;34m)\u001b[0m\u001b[0;34m:\u001b[0m\u001b[0;34m\u001b[0m\u001b[0;34m\u001b[0m\u001b[0m\n",
      "\u001b[0;32m~/anaconda3/envs/whxPyEnv/lib/python3.6/site-packages/keras/backend/tensorflow_backend.py\u001b[0m in \u001b[0;36m_call\u001b[0;34m(self, inputs)\u001b[0m\n\u001b[1;32m   2673\u001b[0m             \u001b[0mfetched\u001b[0m \u001b[0;34m=\u001b[0m \u001b[0mself\u001b[0m\u001b[0;34m.\u001b[0m\u001b[0m_callable_fn\u001b[0m\u001b[0;34m(\u001b[0m\u001b[0;34m*\u001b[0m\u001b[0marray_vals\u001b[0m\u001b[0;34m,\u001b[0m \u001b[0mrun_metadata\u001b[0m\u001b[0;34m=\u001b[0m\u001b[0mself\u001b[0m\u001b[0;34m.\u001b[0m\u001b[0mrun_metadata\u001b[0m\u001b[0;34m)\u001b[0m\u001b[0;34m\u001b[0m\u001b[0;34m\u001b[0m\u001b[0m\n\u001b[1;32m   2674\u001b[0m         \u001b[0;32melse\u001b[0m\u001b[0;34m:\u001b[0m\u001b[0;34m\u001b[0m\u001b[0;34m\u001b[0m\u001b[0m\n\u001b[0;32m-> 2675\u001b[0;31m             \u001b[0mfetched\u001b[0m \u001b[0;34m=\u001b[0m \u001b[0mself\u001b[0m\u001b[0;34m.\u001b[0m\u001b[0m_callable_fn\u001b[0m\u001b[0;34m(\u001b[0m\u001b[0;34m*\u001b[0m\u001b[0marray_vals\u001b[0m\u001b[0;34m)\u001b[0m\u001b[0;34m\u001b[0m\u001b[0;34m\u001b[0m\u001b[0m\n\u001b[0m\u001b[1;32m   2676\u001b[0m         \u001b[0;32mreturn\u001b[0m \u001b[0mfetched\u001b[0m\u001b[0;34m[\u001b[0m\u001b[0;34m:\u001b[0m\u001b[0mlen\u001b[0m\u001b[0;34m(\u001b[0m\u001b[0mself\u001b[0m\u001b[0;34m.\u001b[0m\u001b[0moutputs\u001b[0m\u001b[0;34m)\u001b[0m\u001b[0;34m]\u001b[0m\u001b[0;34m\u001b[0m\u001b[0;34m\u001b[0m\u001b[0m\n\u001b[1;32m   2677\u001b[0m \u001b[0;34m\u001b[0m\u001b[0m\n",
      "\u001b[0;32m~/anaconda3/envs/whxPyEnv/lib/python3.6/site-packages/tensorflow/python/client/session.py\u001b[0m in \u001b[0;36m__call__\u001b[0;34m(self, *args, **kwargs)\u001b[0m\n\u001b[1;32m   1380\u001b[0m           ret = tf_session.TF_SessionRunCallable(\n\u001b[1;32m   1381\u001b[0m               \u001b[0mself\u001b[0m\u001b[0;34m.\u001b[0m\u001b[0m_session\u001b[0m\u001b[0;34m.\u001b[0m\u001b[0m_session\u001b[0m\u001b[0;34m,\u001b[0m \u001b[0mself\u001b[0m\u001b[0;34m.\u001b[0m\u001b[0m_handle\u001b[0m\u001b[0;34m,\u001b[0m \u001b[0margs\u001b[0m\u001b[0;34m,\u001b[0m \u001b[0mstatus\u001b[0m\u001b[0;34m,\u001b[0m\u001b[0;34m\u001b[0m\u001b[0;34m\u001b[0m\u001b[0m\n\u001b[0;32m-> 1382\u001b[0;31m               run_metadata_ptr)\n\u001b[0m\u001b[1;32m   1383\u001b[0m         \u001b[0;32mif\u001b[0m \u001b[0mrun_metadata\u001b[0m\u001b[0;34m:\u001b[0m\u001b[0;34m\u001b[0m\u001b[0;34m\u001b[0m\u001b[0m\n\u001b[1;32m   1384\u001b[0m           \u001b[0mproto_data\u001b[0m \u001b[0;34m=\u001b[0m \u001b[0mtf_session\u001b[0m\u001b[0;34m.\u001b[0m\u001b[0mTF_GetBuffer\u001b[0m\u001b[0;34m(\u001b[0m\u001b[0mrun_metadata_ptr\u001b[0m\u001b[0;34m)\u001b[0m\u001b[0;34m\u001b[0m\u001b[0;34m\u001b[0m\u001b[0m\n",
      "\u001b[0;32m~/anaconda3/envs/whxPyEnv/lib/python3.6/site-packages/tensorflow/python/framework/errors_impl.py\u001b[0m in \u001b[0;36m__exit__\u001b[0;34m(self, type_arg, value_arg, traceback_arg)\u001b[0m\n\u001b[1;32m    517\u001b[0m             \u001b[0;32mNone\u001b[0m\u001b[0;34m,\u001b[0m \u001b[0;32mNone\u001b[0m\u001b[0;34m,\u001b[0m\u001b[0;34m\u001b[0m\u001b[0;34m\u001b[0m\u001b[0m\n\u001b[1;32m    518\u001b[0m             \u001b[0mcompat\u001b[0m\u001b[0;34m.\u001b[0m\u001b[0mas_text\u001b[0m\u001b[0;34m(\u001b[0m\u001b[0mc_api\u001b[0m\u001b[0;34m.\u001b[0m\u001b[0mTF_Message\u001b[0m\u001b[0;34m(\u001b[0m\u001b[0mself\u001b[0m\u001b[0;34m.\u001b[0m\u001b[0mstatus\u001b[0m\u001b[0;34m.\u001b[0m\u001b[0mstatus\u001b[0m\u001b[0;34m)\u001b[0m\u001b[0;34m)\u001b[0m\u001b[0;34m,\u001b[0m\u001b[0;34m\u001b[0m\u001b[0;34m\u001b[0m\u001b[0m\n\u001b[0;32m--> 519\u001b[0;31m             c_api.TF_GetCode(self.status.status))\n\u001b[0m\u001b[1;32m    520\u001b[0m     \u001b[0;31m# Delete the underlying status object from memory otherwise it stays alive\u001b[0m\u001b[0;34m\u001b[0m\u001b[0;34m\u001b[0m\u001b[0;34m\u001b[0m\u001b[0m\n\u001b[1;32m    521\u001b[0m     \u001b[0;31m# as there is a reference to status from this from the traceback due to\u001b[0m\u001b[0;34m\u001b[0m\u001b[0;34m\u001b[0m\u001b[0;34m\u001b[0m\u001b[0m\n",
      "\u001b[0;31mInvalidArgumentError\u001b[0m: indices[0,0] = 401554 is not in [0, 341410)\n\t [[Node: User-Embedding_3/embedding_lookup = GatherV2[Taxis=DT_INT32, Tindices=DT_INT32, Tparams=DT_FLOAT, _class=[\"loc:@training_3/Adam/Assign_5\"], _device=\"/job:localhost/replica:0/task:0/device:CPU:0\"](User-Embedding_3/embeddings/read, User-Embedding_3/Cast, User-Embedding_3/embedding_lookup/axis)]]"
     ]
    }
   ],
   "source": [
    "from keras.callbacks import EarlyStopping, ModelCheckpoint\n",
    "\n",
    "#check_point = ModelCheckpoint('model_naive.hdf5', verbose=True, save_best_only = True)\n",
    "#early_stop = EarlyStopping(patience=5, verbose=True)\n",
    "model.fit([train_order.deal_id, train_order.account_id], train_order.rating, \n",
    "          validation_data=([valid_order.deal_id, valid_order.account_id], valid_order.rating),\n",
    "          batch_size=128,\n",
    "          epochs=20, \n",
    "          verbose=True,\n",
    "         #callbacks=[early_stop, check_point]\n",
    "         )"
   ]
  },
  {
   "cell_type": "code",
   "execution_count": 22,
   "metadata": {},
   "outputs": [],
   "source": [
    "model.load_weights('model.hdf5')"
   ]
  },
  {
   "cell_type": "code",
   "execution_count": 23,
   "metadata": {},
   "outputs": [],
   "source": [
    "pred_result = model.predict([test_order.account_id, test_order.deal_id])"
   ]
  },
  {
   "cell_type": "code",
   "execution_count": 24,
   "metadata": {},
   "outputs": [
    {
     "name": "stdout",
     "output_type": "stream",
     "text": [
      "accuracy: 0.5329522528581035\n"
     ]
    }
   ],
   "source": [
    "right_num = 0\n",
    "for i in range(len(pred_result)):\n",
    "    if int(pred_result[i][0] >= 0.5) == test_order.rating.values[i]:\n",
    "        right_num += 1\n",
    "print('accuracy: {}'.format((right_num / len(pred_result))))"
   ]
  },
  {
   "cell_type": "markdown",
   "metadata": {},
   "source": [
    "# result  n_latent_factor  optimizer  loss  acc\n",
    "## 3  adam  mse  0.7603412362832463\n",
    "## 3  SGD    mse  acc: 0.50\n",
    "## 3  adam  crossEntropy 0.7822672423270864 (sigmoid(pred)\n",
    "## 5  adam  crpssEntropy 0.7833131772948912 (sigmoid(pred)"
   ]
  },
  {
   "cell_type": "markdown",
   "metadata": {},
   "source": [
    "n_latent_factor optimizer loss acc (train_set_embedding_only)\n",
    "5  adam mse 0.533887898014678"
   ]
  }
 ],
 "metadata": {
  "hide_input": false,
  "kernelspec": {
   "display_name": "Python [conda env:whxPyEnv]",
   "language": "python",
   "name": "conda-env-whxPyEnv-py"
  },
  "language_info": {
   "codemirror_mode": {
    "name": "ipython",
    "version": 3
   },
   "file_extension": ".py",
   "mimetype": "text/x-python",
   "name": "python",
   "nbconvert_exporter": "python",
   "pygments_lexer": "ipython3",
   "version": "3.6.8"
  }
 },
 "nbformat": 4,
 "nbformat_minor": 2
}
