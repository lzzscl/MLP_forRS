{
 "cells": [
  {
   "cell_type": "code",
   "execution_count": 13,
   "metadata": {},
   "outputs": [],
   "source": [
    "import pandas as pd\n",
    "import numpy as np\n",
    "import gc\n",
    "import re\n",
    "import MeCab"
   ]
  },
  {
   "cell_type": "code",
   "execution_count": 14,
   "metadata": {},
   "outputs": [],
   "source": [
    "work_path_lizhi = '...'\n",
    "y_cate_path = 'paring_table.csv.gz'\n",
    "df_ycate = pd.read_csv(work_path_lizhi + y_cate_path, compression='gzip')"
   ]
  },
  {
   "cell_type": "code",
   "execution_count": 18,
   "metadata": {},
   "outputs": [
    {
     "data": {
      "text/plain": [
       "181838"
      ]
     },
     "execution_count": 18,
     "metadata": {},
     "output_type": "execute_result"
    }
   ],
   "source": [
    "len(df_ycate.id.value_counts())"
   ]
  },
  {
   "cell_type": "code",
   "execution_count": 2,
   "metadata": {},
   "outputs": [
    {
     "name": "stderr",
     "output_type": "stream",
     "text": [
      "/home/mmde-lab/anaconda3/envs/whxPyEnv/lib/python3.6/site-packages/IPython/core/interactiveshell.py:2728: DtypeWarning: Columns (14,15,16) have mixed types. Specify dtype option on import or set low_memory=False.\n",
      "  interactivity=interactivity, compiler=compiler, result=result)\n",
      "/home/mmde-lab/anaconda3/envs/whxPyEnv/lib/python3.6/site-packages/IPython/core/interactiveshell.py:2728: DtypeWarning: Columns (9,14,15,51,56) have mixed types. Specify dtype option on import or set low_memory=False.\n",
      "  interactivity=interactivity, compiler=compiler, result=result)\n",
      "/home/mmde-lab/anaconda3/envs/whxPyEnv/lib/python3.6/site-packages/IPython/core/interactiveshell.py:2728: DtypeWarning: Columns (10,13,26,31) have mixed types. Specify dtype option on import or set low_memory=False.\n",
      "  interactivity=interactivity, compiler=compiler, result=result)\n",
      "/home/mmde-lab/anaconda3/envs/whxPyEnv/lib/python3.6/site-packages/IPython/core/interactiveshell.py:2728: DtypeWarning: Columns (0,3,9,10,13,17,18,24,25,26,29,30,31) have mixed types. Specify dtype option on import or set low_memory=False.\n",
      "  interactivity=interactivity, compiler=compiler, result=result)\n"
     ]
    }
   ],
   "source": [
    "account_path = '...'\n",
    "order_path = '...'\n",
    "deal_path = '...'\n",
    "deal_profile_path = '...'\n",
    "work_path = '...'\n",
    "deal_profile_path2 = '...'\n",
    "df_account = pd.read_csv(work_path + account_path, sep = '\\t', compression='gzip')\n",
    "df_order = pd.read_csv(work_path + order_path, sep = '\\t', compression='gzip')\n",
    "df_deal = pd.read_csv(work_path + deal_path, sep = '\\t', compression='gzip')\n",
    "df_dealprofile = pd.read_csv(work_path + deal_profile_path, sep = '\\t', compression='gzip')\n",
    "df_dealprofile2 = pd.read_csv(work_path + deal_profile_path2, sep = '\\t', compression='gzip')"
   ]
  },
  {
   "cell_type": "code",
   "execution_count": 2,
   "metadata": {},
   "outputs": [
    {
     "data": {
      "text/plain": [
       "'2016-10-01 00:00:01'"
      ]
     },
     "execution_count": 2,
     "metadata": {},
     "output_type": "execute_result"
    }
   ],
   "source": [
    "df_order.ins_tm.min()"
   ]
  },
  {
   "cell_type": "code",
   "execution_count": 6,
   "metadata": {},
   "outputs": [],
   "source": [
    "#delete website tag \n",
    "pattern = re.compile(r'<(.*?)>')\n",
    "df_dealprofile.deal_description = df_dealprofile.deal_description.map(lambda x: str(re.sub(pattern, '', str(x))))\n",
    "df_dealprofile2.deal_description = df_dealprofile2.deal_description.map(lambda x: str(re.sub(pattern, '', str(x))))"
   ]
  },
  {
   "cell_type": "code",
   "execution_count": 7,
   "metadata": {},
   "outputs": [],
   "source": [
    "df_dealprofile.deal_title = df_dealprofile.deal_title.map(lambda x: str(re.sub(pattern, '', str(x))))\n",
    "df_dealprofile2.deal_title = df_dealprofile2.deal_title.map(lambda x: str(re.sub(pattern, '', str(x))))"
   ]
  },
  {
   "cell_type": "code",
   "execution_count": 8,
   "metadata": {},
   "outputs": [],
   "source": [
    "# preprocess deal_description\n",
    "mecab = MeCab.Tagger('-Ochasen')\n",
    "def rawdcrp2tokendcrp(rawdescription):\n",
    "    deal_des = []\n",
    "    for line in rawdescription:\n",
    "        tokenlst = mecab.parse(line)\n",
    "        pattern1 = re.compile(r'(.*?)(名詞|動詞|形容詞)(.*?)')\n",
    "        new_dcp1 = pattern1.findall(tokenlst)\n",
    "        pattern2 = re.compile('(.*?)\\t')\n",
    "        sentence_des = []\n",
    "        for token in range(len(new_dcp1)):\n",
    "            matchobjdes = re.match(pattern2, new_dcp1[token][0])\n",
    "            if(matchobjdes != None):\n",
    "                sentence_des.append(matchobjdes.group(1))\n",
    "        deal_des.append(sentence_des)\n",
    "    return deal_des\n",
    "df_dealprofile.deal_description = df_dealprofile.deal_description.map(lambda x: x.split('。'))\n",
    "df_dealprofile.deal_description = df_dealprofile.deal_description.map(lambda x: rawdcrp2tokendcrp(x))\n",
    "df_dealprofile2.deal_description = df_dealprofile2.deal_description.map(lambda x: x.split('。'))\n",
    "df_dealprofile2.deal_description = df_dealprofile2.deal_description.map(lambda x: rawdcrp2tokendcrp(x)) "
   ]
  },
  {
   "cell_type": "code",
   "execution_count": 9,
   "metadata": {},
   "outputs": [],
   "source": [
    "df_dealprofile.deal_title = df_dealprofile.deal_title.map(lambda x: x.split('。'))\n",
    "df_dealprofile.deal_title = df_dealprofile.deal_title.map(lambda x: rawdcrp2tokendcrp(x)) \n",
    "df_dealprofile2.deal_title = df_dealprofile2.deal_title.map(lambda x: x.split('。'))\n",
    "df_dealprofile2.deal_title = df_dealprofile2.deal_title.map(lambda x: rawdcrp2tokendcrp(x)) "
   ]
  },
  {
   "cell_type": "code",
   "execution_count": 10,
   "metadata": {},
   "outputs": [],
   "source": [
    "df_dealprofile.to_csv('df_dealprofile_afterprep201804.csv.gz', compression = 'gzip')\n",
    "df_dealprofile2.to_csv('df_dealprofile_afterprep201712.csv.gz', compression = 'gzip')"
   ]
  },
  {
   "cell_type": "code",
   "execution_count": 11,
   "metadata": {},
   "outputs": [],
   "source": [
    "import datetime\n",
    "df_dealprofile['ins_tm'] = pd.to_datetime(df_dealprofile['ins_tm'],format='%Y-%m-%d %H:%M:%S')\n",
    "df_dealprofile2['ins_tm'] = pd.to_datetime(df_dealprofile2['ins_tm'],format='%Y-%m-%d %H:%M:%S')\n",
    "df_dealprofile['date'] = df_dealprofile.ins_tm.dt.date\n",
    "df_dealprofile2['date'] = df_dealprofile2.ins_tm.dt.date"
   ]
  },
  {
   "cell_type": "code",
   "execution_count": 12,
   "metadata": {},
   "outputs": [],
   "source": [
    "train_dealprofile = df_dealprofile.loc[df_dealprofile.date <= datetime.date(2017,9,14)]\n",
    "train_dealprofile2 = df_dealprofile2.loc[df_dealprofile2.date <= datetime.date(2017,9,14)]"
   ]
  },
  {
   "cell_type": "code",
   "execution_count": null,
   "metadata": {},
   "outputs": [],
   "source": [
    "work_path2 = '...'\n",
    "url_path0 = '...'\n",
    "url_path1 = '...'\n",
    "url_path2 = '...'\n",
    "df_url0 = pd.read_csv(work_path2 + url_path0, sep = ',', compression='gzip')\n",
    "df_url1 = pd.read_csv(work_path2 + url_path1, sep = ',', compression='gzip')\n",
    "df_url2 = pd.read_csv(work_path2 + url_path2, sep = ',', compression='gzip')\n",
    "df_url = df_url0.append(df_url1)\n",
    "df_url = df_url.append(df_url2)\n",
    "(df_url.description.notnull() & df_url.keywords.notnull()).sum()\n",
    "(df_url.description.notnull() & df_url.title.notnull()).sum()\n",
    "(df_url.description.notnull() & df_url.title.notnull() & df_url.keywords.notnull()).sum()\n",
    "df_url.notnull().sum()\n",
    "df_url = df_url[['index', 'description', 'title']]\n",
    "df_url = df_url.dropna()\n",
    "df_url.shape\n",
    "df_url.description = df_url.description.map(lambda x: x.split('。'))\n",
    "df_url.description = df_url.description.map(lambda x: rawdcrp2tokendcrp(x))\n",
    "df_url.title = df_url.title.map(lambda x: x.split('。'))\n",
    "df_url.title = df_url.title.map(lambda x: rawdcrp2tokendcrp(x))\n",
    "\n",
    "for line in df_url.description.values:\n",
    "    corpus = corpus + line\n",
    "for line in df_url.title.values:\n",
    "    corpus = corpus + line\n",
    "corpus = []\n",
    "np.save('corpus.npy', corpus)"
   ]
  },
  {
   "cell_type": "code",
   "execution_count": 13,
   "metadata": {},
   "outputs": [],
   "source": [
    "corpus = []\n",
    "for line in train_dealprofile.deal_description.values:\n",
    "    corpus.extend(line)\n",
    "for line in train_dealprofile.deal_title.values:\n",
    "    corpus.extend(line)\n",
    "for line in train_dealprofile2.deal_description.values:\n",
    "    corpus.extend(line)\n",
    "for line in train_dealprofile2.deal_title.values:\n",
    "    corpus.extend(line)"
   ]
  },
  {
   "cell_type": "code",
   "execution_count": 14,
   "metadata": {},
   "outputs": [],
   "source": [
    "np.save('corpus_dealonly.npy', corpus)"
   ]
  },
  {
   "cell_type": "code",
   "execution_count": 4,
   "metadata": {},
   "outputs": [],
   "source": [
    "import pandas as pd\n",
    "import numpy as np\n",
    "import gc\n",
    "import re\n",
    "import MeCab\n",
    "from gensim.models import Word2Vec\n",
    "from gensim.models import TfidfModel\n",
    "from gensim.models import Phrases\n",
    "from gensim.models.phrases import Phraser\n",
    "from sklearn.manifold import TSNE\n",
    "import matplotlib.pyplot as plt\n",
    "import logging\n",
    "logging.basicConfig(format='%(asctime)s:%(levelname)s : %(message)s', level=logging.INFO)\n",
    "\n",
    "%matplotlib inline"
   ]
  },
  {
   "cell_type": "code",
   "execution_count": 5,
   "metadata": {},
   "outputs": [],
   "source": [
    "test_cor = np.load('corpus.npy')"
   ]
  },
  {
   "cell_type": "code",
   "execution_count": 17,
   "metadata": {},
   "outputs": [],
   "source": [
    "import math"
   ]
  },
  {
   "cell_type": "code",
   "execution_count": 18,
   "metadata": {},
   "outputs": [
    {
     "name": "stdout",
     "output_type": "stream",
     "text": [
      "47255\n",
      "19198\n",
      "1860\n",
      "136\n",
      "9\n",
      "0\n"
     ]
    }
   ],
   "source": [
    "last_count = 0\n",
    "new_count = 0 \n",
    "for i in range(6):\n",
    "    new_count = ((df_order.deal_id.value_counts() <= (10* math.pow(10, i))) == True).sum() - last_count\n",
    "    print(new_count)\n",
    "    last_count += new_count "
   ]
  },
  {
   "cell_type": "code",
   "execution_count": 2,
   "metadata": {},
   "outputs": [],
   "source": [
    "sell_count = df_order.deal_id.value_counts()\n",
    "sell = pd.DataFrame(sell_count)\n",
    "sell = sell.rename(columns= {'deal_id':'sell_count'})\n",
    "sell = sell.reset_index()\n",
    "sell.columns = ['deal_id','sell_count']"
   ]
  },
  {
   "cell_type": "code",
   "execution_count": 3,
   "metadata": {},
   "outputs": [
    {
     "data": {
      "text/plain": [
       "(73965, 35)"
      ]
     },
     "execution_count": 3,
     "metadata": {},
     "output_type": "execute_result"
    }
   ],
   "source": [
    "df_dealprofile.shape"
   ]
  },
  {
   "cell_type": "code",
   "execution_count": 4,
   "metadata": {},
   "outputs": [],
   "source": [
    "result = pd.merge(df_dealprofile, sell, how ='inner', on= ['deal_id'])"
   ]
  },
  {
   "cell_type": "code",
   "execution_count": 5,
   "metadata": {},
   "outputs": [
    {
     "data": {
      "text/plain": [
       "(2162, 36)"
      ]
     },
     "execution_count": 5,
     "metadata": {},
     "output_type": "execute_result"
    }
   ],
   "source": [
    "result.shape"
   ]
  },
  {
   "cell_type": "code",
   "execution_count": 6,
   "metadata": {},
   "outputs": [],
   "source": [
    "result = pd.merge(df_dealprofile, df_order, how ='inner', on= ['deal_id'])"
   ]
  },
  {
   "cell_type": "code",
   "execution_count": 15,
   "metadata": {},
   "outputs": [],
   "source": [
    "result = pd.merge(df_dealprofile, df_deal, how ='inner', on= ['deal_id'])"
   ]
  },
  {
   "cell_type": "code",
   "execution_count": 16,
   "metadata": {},
   "outputs": [],
   "source": [
    "result = pd.merge(df_dealprofile2, sell, how ='inner', on= ['deal_id'])"
   ]
  },
  {
   "cell_type": "code",
   "execution_count": 19,
   "metadata": {},
   "outputs": [],
   "source": [
    "result = pd.merge(df_dealprofile, df_deal, how ='inner', on= ['deal_id'])"
   ]
  },
  {
   "cell_type": "code",
   "execution_count": 25,
   "metadata": {},
   "outputs": [],
   "source": [
    "result = pd.merge(result, sell, how = 'inner', on=['deal_id'])"
   ]
  },
  {
   "cell_type": "code",
   "execution_count": 26,
   "metadata": {},
   "outputs": [],
   "source": [
    "result = result[['deal_id','sell_count','deal_category_cd',]]"
   ]
  },
  {
   "cell_type": "code",
   "execution_count": 36,
   "metadata": {},
   "outputs": [],
   "source": [
    "df_new = pd.read_csv('df_new.csv.gz', sep = ',', compression='gzip')"
   ]
  },
  {
   "cell_type": "code",
   "execution_count": 48,
   "metadata": {},
   "outputs": [],
   "source": [
    "df_new.deal_description = df_new.deal_description.map(lambda x: eval(x))"
   ]
  },
  {
   "cell_type": "code",
   "execution_count": 58,
   "metadata": {},
   "outputs": [],
   "source": [
    "result = pd.merge(sell, df_new, how = 'inner', on=['deal_id'])"
   ]
  },
  {
   "cell_type": "markdown",
   "metadata": {},
   "source": [
    "# session-based embedding"
   ]
  },
  {
   "cell_type": "code",
   "execution_count": 96,
   "metadata": {},
   "outputs": [],
   "source": [
    "df_order.deal_id = df_order.deal_id.map(lambda x: str(x))"
   ]
  },
  {
   "cell_type": "code",
   "execution_count": 98,
   "metadata": {},
   "outputs": [],
   "source": [
    "grouped_order = df_order.groupby('account_id').apply(lambda x: ' '.join(list(x['deal_id'])))"
   ]
  },
  {
   "cell_type": "code",
   "execution_count": 100,
   "metadata": {},
   "outputs": [],
   "source": [
    "Input_Data = pd.DataFrame(grouped_order)\n",
    "Input_Data = Input_Data.reset_index(drop = True)\n",
    "Input_Data = Input_Data.iloc[:,0].values\n",
    "corpus = []\n",
    "for line in Input_Data:\n",
    "    words = [x for x in line.split(' ')]\n",
    "    corpus.append(words)"
   ]
  },
  {
   "cell_type": "code",
   "execution_count": 102,
   "metadata": {},
   "outputs": [],
   "source": [
    "np.save('session_based_corpus.npy', corpus)"
   ]
  },
  {
   "cell_type": "code",
   "execution_count": 104,
   "metadata": {},
   "outputs": [],
   "source": [
    "grouped_order = df_order.groupby('account_id').apply(lambda x: ' '.join(list(x['deal_id'])))\n",
    "Input_Data = pd.DataFrame(grouped_order)"
   ]
  },
  {
   "cell_type": "code",
   "execution_count": 17,
   "metadata": {},
   "outputs": [],
   "source": [
    "df_order = df_order[['account_id', 'deal_id', 'ins_tm']]"
   ]
  },
  {
   "cell_type": "code",
   "execution_count": 18,
   "metadata": {},
   "outputs": [],
   "source": [
    "offset = np.zeros(df_order.account_id.nunique()+1, dtype = np.int32)"
   ]
  },
  {
   "cell_type": "code",
   "execution_count": 20,
   "metadata": {},
   "outputs": [
    {
     "data": {
      "text/plain": [
       "(341410,)"
      ]
     },
     "execution_count": 20,
     "metadata": {},
     "output_type": "execute_result"
    }
   ],
   "source": [
    "offset.shape"
   ]
  },
  {
   "cell_type": "code",
   "execution_count": 22,
   "metadata": {},
   "outputs": [],
   "source": [
    "offset[1:] = df_order.groupby('account_id').size().cumsum()"
   ]
  },
  {
   "cell_type": "code",
   "execution_count": 24,
   "metadata": {},
   "outputs": [],
   "source": [
    "item_id = df_order.deal_id.unique()"
   ]
  },
  {
   "cell_type": "code",
   "execution_count": 25,
   "metadata": {},
   "outputs": [
    {
     "data": {
      "text/plain": [
       "(68458,)"
      ]
     },
     "execution_count": 25,
     "metadata": {},
     "output_type": "execute_result"
    }
   ],
   "source": [
    "item_id.shape"
   ]
  },
  {
   "cell_type": "code",
   "execution_count": 27,
   "metadata": {},
   "outputs": [],
   "source": [
    "item2idx = pd.Series(data=np.arange(len(item_id)),index=item_id)\n",
    "\n",
    "itemmap = pd.DataFrame({'item_ID':item_id,'item_idx':item2idx[item_id].values})\n",
    "        "
   ]
  },
  {
   "cell_type": "code",
   "execution_count": 2,
   "metadata": {},
   "outputs": [],
   "source": [
    "df_order = df_order[['account_id', 'deal_id']]\n",
    "df_order['rating'] = 1"
   ]
  },
  {
   "cell_type": "code",
   "execution_count": 3,
   "metadata": {},
   "outputs": [],
   "source": [
    "df_order.account_id = df_order.account_id.astype('category').cat.codes.values\n",
    "df_order.deal_id = df_order.deal_id.astype('category').cat.codes.values"
   ]
  },
  {
   "cell_type": "code",
   "execution_count": 4,
   "metadata": {},
   "outputs": [],
   "source": [
    "import random"
   ]
  },
  {
   "cell_type": "code",
   "execution_count": 5,
   "metadata": {},
   "outputs": [],
   "source": [
    "item_list = list(df_order.deal_id.unique())\n",
    "bought_list = list(df_order[df_order.account_id == 24350].deal_id.values)\n",
    "negative_list = list(set(item_list)^set(bought_list))"
   ]
  },
  {
   "cell_type": "code",
   "execution_count": 6,
   "metadata": {},
   "outputs": [
    {
     "data": {
      "text/plain": [
       "(68458, 23, 68435)"
      ]
     },
     "execution_count": 6,
     "metadata": {},
     "output_type": "execute_result"
    }
   ],
   "source": [
    "len(item_list), len(bought_list), len(negative_list)"
   ]
  },
  {
   "cell_type": "code",
   "execution_count": 15,
   "metadata": {},
   "outputs": [],
   "source": [
    "Negative_sample = []\n",
    "for i in range(len(bought_list)):\n",
    "        some = random.sample(negative_list, 1)[0]\n",
    "        Negative_sample.append([24350, some, 0])"
   ]
  },
  {
   "cell_type": "code",
   "execution_count": 13,
   "metadata": {},
   "outputs": [],
   "source": [
    "df_order = df_order[['account_id', 'deal_id']]"
   ]
  },
  {
   "cell_type": "code",
   "execution_count": 18,
   "metadata": {},
   "outputs": [
    {
     "name": "stderr",
     "output_type": "stream",
     "text": [
      "/home/mmde-lab/anaconda3/envs/whxPyEnv/lib/python3.6/site-packages/ipykernel_launcher.py:1: SettingWithCopyWarning: \n",
      "A value is trying to be set on a copy of a slice from a DataFrame.\n",
      "Try using .loc[row_indexer,col_indexer] = value instead\n",
      "\n",
      "See the caveats in the documentation: http://pandas.pydata.org/pandas-docs/stable/indexing.html#indexing-view-versus-copy\n",
      "  \"\"\"Entry point for launching an IPython kernel.\n"
     ]
    }
   ],
   "source": [
    "df_order['value_count'] = 1"
   ]
  },
  {
   "cell_type": "code",
   "execution_count": 21,
   "metadata": {},
   "outputs": [],
   "source": [
    "df_buy = df_order.groupby(['account_id', 'deal_id']).sum()"
   ]
  },
  {
   "cell_type": "code",
   "execution_count": null,
   "metadata": {},
   "outputs": [],
   "source": []
  }
 ],
 "metadata": {
  "hide_input": false,
  "kernelspec": {
   "display_name": "Python 3",
   "language": "python",
   "name": "python3"
  },
  "language_info": {
   "codemirror_mode": {
    "name": "ipython",
    "version": 3
   },
   "file_extension": ".py",
   "mimetype": "text/x-python",
   "name": "python",
   "nbconvert_exporter": "python",
   "pygments_lexer": "ipython3",
   "version": "3.6.6"
  }
 },
 "nbformat": 4,
 "nbformat_minor": 2
}
